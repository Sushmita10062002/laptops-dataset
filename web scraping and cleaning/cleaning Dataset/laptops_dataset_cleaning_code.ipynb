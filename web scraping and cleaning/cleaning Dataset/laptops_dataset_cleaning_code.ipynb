{
  "cells": [
    {
      "cell_type": "code",
      "execution_count": null,
      "metadata": {
        "id": "3MBrfpstQIgY"
      },
      "outputs": [],
      "source": [
        "import pandas as pd\n",
        "import numpy as np\n",
        "import matplotlib.pyplot as plt"
      ]
    },
    {
      "cell_type": "code",
      "execution_count": null,
      "metadata": {
        "id": "U3RRupBvQazY"
      },
      "outputs": [],
      "source": [
        "df = pd.read_csv('/content/laptops.csv')"
      ]
    },
    {
      "cell_type": "code",
      "execution_count": null,
      "metadata": {
        "id": "9hdk2nIYQk1I"
      },
      "outputs": [],
      "source": [
        "df.drop(columns={'Unnamed: 0'}, inplace=True)"
      ]
    },
    {
      "cell_type": "code",
      "execution_count": null,
      "metadata": {
        "colab": {
          "base_uri": "https://localhost:8080/",
          "height": 226
        },
        "id": "uJUqCx1JQfb2",
        "outputId": "47e3bca4-491b-4215-bee2-525d812d6de2"
      },
      "outputs": [
        {
          "data": {
            "text/html": [
              "\n",
              "  <div id=\"df-e5437a58-8a83-40c0-96ea-a24a04fe51c9\">\n",
              "    <div class=\"colab-df-container\">\n",
              "      <div>\n",
              "<style scoped>\n",
              "    .dataframe tbody tr th:only-of-type {\n",
              "        vertical-align: middle;\n",
              "    }\n",
              "\n",
              "    .dataframe tbody tr th {\n",
              "        vertical-align: top;\n",
              "    }\n",
              "\n",
              "    .dataframe thead th {\n",
              "        text-align: right;\n",
              "    }\n",
              "</style>\n",
              "<table border=\"1\" class=\"dataframe\">\n",
              "  <thead>\n",
              "    <tr style=\"text-align: right;\">\n",
              "      <th></th>\n",
              "      <th>model</th>\n",
              "      <th>price</th>\n",
              "      <th>spec_score</th>\n",
              "      <th>processor</th>\n",
              "      <th>core_threads</th>\n",
              "      <th>ram</th>\n",
              "      <th>ssd</th>\n",
              "      <th>graphics</th>\n",
              "      <th>display</th>\n",
              "      <th>os</th>\n",
              "      <th>extra_info</th>\n",
              "    </tr>\n",
              "  </thead>\n",
              "  <tbody>\n",
              "    <tr>\n",
              "      <th>0</th>\n",
              "      <td>Lenovo V15 ITL G2 82KBA033IH Laptop (11th Gen ...</td>\n",
              "      <td>₹33,921</td>\n",
              "      <td>62.0</td>\n",
              "      <td>11th Gen Intel Core i3 1115G4</td>\n",
              "      <td>Dual Core, 4 Threads</td>\n",
              "      <td>8 GB DDR4 RAM</td>\n",
              "      <td>512 GB SSD</td>\n",
              "      <td>Intel Integrated UHD</td>\n",
              "      <td>15.6 inches, 1920 x 1080 pixels</td>\n",
              "      <td>Windows 11 OS</td>\n",
              "      <td>1 Year Warranty</td>\n",
              "    </tr>\n",
              "    <tr>\n",
              "      <th>1</th>\n",
              "      <td>HP Pavilion 15-ec2004AX Gaming Laptop (AMD Ryz...</td>\n",
              "      <td>₹56,150</td>\n",
              "      <td>66.0</td>\n",
              "      <td>5th Gen AMD Ryzen 5  5600H</td>\n",
              "      <td>Hexa Core, 12 Threads</td>\n",
              "      <td>8 GB DDR4 RAM</td>\n",
              "      <td>512 GB SSD</td>\n",
              "      <td>4 GB NVIDIA GeForce GTX 1650</td>\n",
              "      <td>15.6 inches, 1920 x 1080 pixels</td>\n",
              "      <td>Windows 10 OS</td>\n",
              "      <td>1 Year Warranty</td>\n",
              "    </tr>\n",
              "  </tbody>\n",
              "</table>\n",
              "</div>\n",
              "      <button class=\"colab-df-convert\" onclick=\"convertToInteractive('df-e5437a58-8a83-40c0-96ea-a24a04fe51c9')\"\n",
              "              title=\"Convert this dataframe to an interactive table.\"\n",
              "              style=\"display:none;\">\n",
              "        \n",
              "  <svg xmlns=\"http://www.w3.org/2000/svg\" height=\"24px\"viewBox=\"0 0 24 24\"\n",
              "       width=\"24px\">\n",
              "    <path d=\"M0 0h24v24H0V0z\" fill=\"none\"/>\n",
              "    <path d=\"M18.56 5.44l.94 2.06.94-2.06 2.06-.94-2.06-.94-.94-2.06-.94 2.06-2.06.94zm-11 1L8.5 8.5l.94-2.06 2.06-.94-2.06-.94L8.5 2.5l-.94 2.06-2.06.94zm10 10l.94 2.06.94-2.06 2.06-.94-2.06-.94-.94-2.06-.94 2.06-2.06.94z\"/><path d=\"M17.41 7.96l-1.37-1.37c-.4-.4-.92-.59-1.43-.59-.52 0-1.04.2-1.43.59L10.3 9.45l-7.72 7.72c-.78.78-.78 2.05 0 2.83L4 21.41c.39.39.9.59 1.41.59.51 0 1.02-.2 1.41-.59l7.78-7.78 2.81-2.81c.8-.78.8-2.07 0-2.86zM5.41 20L4 18.59l7.72-7.72 1.47 1.35L5.41 20z\"/>\n",
              "  </svg>\n",
              "      </button>\n",
              "      \n",
              "  <style>\n",
              "    .colab-df-container {\n",
              "      display:flex;\n",
              "      flex-wrap:wrap;\n",
              "      gap: 12px;\n",
              "    }\n",
              "\n",
              "    .colab-df-convert {\n",
              "      background-color: #E8F0FE;\n",
              "      border: none;\n",
              "      border-radius: 50%;\n",
              "      cursor: pointer;\n",
              "      display: none;\n",
              "      fill: #1967D2;\n",
              "      height: 32px;\n",
              "      padding: 0 0 0 0;\n",
              "      width: 32px;\n",
              "    }\n",
              "\n",
              "    .colab-df-convert:hover {\n",
              "      background-color: #E2EBFA;\n",
              "      box-shadow: 0px 1px 2px rgba(60, 64, 67, 0.3), 0px 1px 3px 1px rgba(60, 64, 67, 0.15);\n",
              "      fill: #174EA6;\n",
              "    }\n",
              "\n",
              "    [theme=dark] .colab-df-convert {\n",
              "      background-color: #3B4455;\n",
              "      fill: #D2E3FC;\n",
              "    }\n",
              "\n",
              "    [theme=dark] .colab-df-convert:hover {\n",
              "      background-color: #434B5C;\n",
              "      box-shadow: 0px 1px 3px 1px rgba(0, 0, 0, 0.15);\n",
              "      filter: drop-shadow(0px 1px 2px rgba(0, 0, 0, 0.3));\n",
              "      fill: #FFFFFF;\n",
              "    }\n",
              "  </style>\n",
              "\n",
              "      <script>\n",
              "        const buttonEl =\n",
              "          document.querySelector('#df-e5437a58-8a83-40c0-96ea-a24a04fe51c9 button.colab-df-convert');\n",
              "        buttonEl.style.display =\n",
              "          google.colab.kernel.accessAllowed ? 'block' : 'none';\n",
              "\n",
              "        async function convertToInteractive(key) {\n",
              "          const element = document.querySelector('#df-e5437a58-8a83-40c0-96ea-a24a04fe51c9');\n",
              "          const dataTable =\n",
              "            await google.colab.kernel.invokeFunction('convertToInteractive',\n",
              "                                                     [key], {});\n",
              "          if (!dataTable) return;\n",
              "\n",
              "          const docLinkHtml = 'Like what you see? Visit the ' +\n",
              "            '<a target=\"_blank\" href=https://colab.research.google.com/notebooks/data_table.ipynb>data table notebook</a>'\n",
              "            + ' to learn more about interactive tables.';\n",
              "          element.innerHTML = '';\n",
              "          dataTable['output_type'] = 'display_data';\n",
              "          await google.colab.output.renderOutput(dataTable, element);\n",
              "          const docLink = document.createElement('div');\n",
              "          docLink.innerHTML = docLinkHtml;\n",
              "          element.appendChild(docLink);\n",
              "        }\n",
              "      </script>\n",
              "    </div>\n",
              "  </div>\n",
              "  "
            ],
            "text/plain": [
              "                                               model    price  spec_score  \\\n",
              "0  Lenovo V15 ITL G2 82KBA033IH Laptop (11th Gen ...  ₹33,921        62.0   \n",
              "1  HP Pavilion 15-ec2004AX Gaming Laptop (AMD Ryz...  ₹56,150        66.0   \n",
              "\n",
              "                       processor           core_threads            ram  \\\n",
              "0  11th Gen Intel Core i3 1115G4   Dual Core, 4 Threads  8 GB DDR4 RAM   \n",
              "1     5th Gen AMD Ryzen 5  5600H  Hexa Core, 12 Threads  8 GB DDR4 RAM   \n",
              "\n",
              "          ssd                      graphics                          display  \\\n",
              "0  512 GB SSD          Intel Integrated UHD  15.6 inches, 1920 x 1080 pixels   \n",
              "1  512 GB SSD  4 GB NVIDIA GeForce GTX 1650  15.6 inches, 1920 x 1080 pixels   \n",
              "\n",
              "              os       extra_info  \n",
              "0  Windows 11 OS  1 Year Warranty  \n",
              "1  Windows 10 OS  1 Year Warranty  "
            ]
          },
          "execution_count": 4,
          "metadata": {},
          "output_type": "execute_result"
        }
      ],
      "source": [
        "df.head(2)"
      ]
    },
    {
      "cell_type": "code",
      "execution_count": null,
      "metadata": {
        "colab": {
          "base_uri": "https://localhost:8080/"
        },
        "id": "1OZKObEzTGaj",
        "outputId": "5f5cbb16-6f37-4c08-c8ac-20812657b966"
      },
      "outputs": [
        {
          "name": "stdout",
          "output_type": "stream",
          "text": [
            "<class 'pandas.core.frame.DataFrame'>\n",
            "RangeIndex: 1020 entries, 0 to 1019\n",
            "Data columns (total 11 columns):\n",
            " #   Column        Non-Null Count  Dtype  \n",
            "---  ------        --------------  -----  \n",
            " 0   model         1020 non-null   object \n",
            " 1   price         1020 non-null   object \n",
            " 2   spec_score    1004 non-null   float64\n",
            " 3   processor     1018 non-null   object \n",
            " 4   core_threads  1018 non-null   object \n",
            " 5   ram           1018 non-null   object \n",
            " 6   ssd           1018 non-null   object \n",
            " 7   graphics      1018 non-null   object \n",
            " 8   display       1018 non-null   object \n",
            " 9   os            1017 non-null   object \n",
            " 10  extra_info    1015 non-null   object \n",
            "dtypes: float64(1), object(10)\n",
            "memory usage: 87.8+ KB\n"
          ]
        }
      ],
      "source": [
        "df.info()"
      ]
    },
    {
      "cell_type": "code",
      "execution_count": null,
      "metadata": {
        "colab": {
          "base_uri": "https://localhost:8080/"
        },
        "id": "XpjTbOqpRX5R",
        "outputId": "1df2d946-187f-4ec9-a88f-8957f4fe0eae"
      },
      "outputs": [
        {
          "data": {
            "text/plain": [
              "model            0\n",
              "price            0\n",
              "spec_score      16\n",
              "processor        2\n",
              "core_threads     2\n",
              "ram              2\n",
              "ssd              2\n",
              "graphics         2\n",
              "display          2\n",
              "os               3\n",
              "extra_info       5\n",
              "dtype: int64"
            ]
          },
          "execution_count": 6,
          "metadata": {},
          "output_type": "execute_result"
        }
      ],
      "source": [
        "df.isnull().sum()"
      ]
    },
    {
      "cell_type": "code",
      "execution_count": null,
      "metadata": {
        "id": "ogccm048ReH1"
      },
      "outputs": [],
      "source": [
        "df['extra_info'] = df['extra_info'].fillna('Missing')"
      ]
    },
    {
      "cell_type": "code",
      "execution_count": null,
      "metadata": {
        "id": "aO_31hjPTGUp"
      },
      "outputs": [],
      "source": [
        "df['model_name'] = df['model'].str.split('(').str.get(0).str.strip()"
      ]
    },
    {
      "cell_type": "code",
      "execution_count": null,
      "metadata": {
        "id": "_Yfh92YaTGX2"
      },
      "outputs": [],
      "source": [
        "df['price'] = df['price'].str.replace('₹','').str.replace(',','').astype('int')"
      ]
    },
    {
      "cell_type": "code",
      "execution_count": null,
      "metadata": {
        "id": "qC0WSULzWcGP"
      },
      "outputs": [],
      "source": [
        "temp_df = df[df['processor'].isna()]"
      ]
    },
    {
      "cell_type": "code",
      "execution_count": null,
      "metadata": {
        "colab": {
          "base_uri": "https://localhost:8080/",
          "height": 226
        },
        "id": "IbfWRNmsWhuP",
        "outputId": "ee972443-7b53-43ba-a5ed-27a01a190391"
      },
      "outputs": [
        {
          "data": {
            "text/html": [
              "\n",
              "  <div id=\"df-8a9808ef-a90c-457c-92eb-b84674d2ae3a\">\n",
              "    <div class=\"colab-df-container\">\n",
              "      <div>\n",
              "<style scoped>\n",
              "    .dataframe tbody tr th:only-of-type {\n",
              "        vertical-align: middle;\n",
              "    }\n",
              "\n",
              "    .dataframe tbody tr th {\n",
              "        vertical-align: top;\n",
              "    }\n",
              "\n",
              "    .dataframe thead th {\n",
              "        text-align: right;\n",
              "    }\n",
              "</style>\n",
              "<table border=\"1\" class=\"dataframe\">\n",
              "  <thead>\n",
              "    <tr style=\"text-align: right;\">\n",
              "      <th></th>\n",
              "      <th>model</th>\n",
              "      <th>price</th>\n",
              "      <th>spec_score</th>\n",
              "      <th>processor</th>\n",
              "      <th>core_threads</th>\n",
              "      <th>ram</th>\n",
              "      <th>ssd</th>\n",
              "      <th>graphics</th>\n",
              "      <th>display</th>\n",
              "      <th>os</th>\n",
              "      <th>extra_info</th>\n",
              "      <th>model_name</th>\n",
              "    </tr>\n",
              "  </thead>\n",
              "  <tbody>\n",
              "    <tr>\n",
              "      <th>600</th>\n",
              "      <td>Acer Nitro 5 AN515-46 Gaming Laptop (AMD Ryzen...</td>\n",
              "      <td>129990</td>\n",
              "      <td>NaN</td>\n",
              "      <td>NaN</td>\n",
              "      <td>NaN</td>\n",
              "      <td>NaN</td>\n",
              "      <td>NaN</td>\n",
              "      <td>NaN</td>\n",
              "      <td>NaN</td>\n",
              "      <td>NaN</td>\n",
              "      <td>Missing</td>\n",
              "      <td>Acer Nitro 5 AN515-46 Gaming Laptop</td>\n",
              "    </tr>\n",
              "    <tr>\n",
              "      <th>999</th>\n",
              "      <td>Lenovo V15 82KB0003GE Laptop (11th Gen Core i3...</td>\n",
              "      <td>32499</td>\n",
              "      <td>NaN</td>\n",
              "      <td>NaN</td>\n",
              "      <td>NaN</td>\n",
              "      <td>NaN</td>\n",
              "      <td>NaN</td>\n",
              "      <td>NaN</td>\n",
              "      <td>NaN</td>\n",
              "      <td>NaN</td>\n",
              "      <td>Missing</td>\n",
              "      <td>Lenovo V15 82KB0003GE Laptop</td>\n",
              "    </tr>\n",
              "  </tbody>\n",
              "</table>\n",
              "</div>\n",
              "      <button class=\"colab-df-convert\" onclick=\"convertToInteractive('df-8a9808ef-a90c-457c-92eb-b84674d2ae3a')\"\n",
              "              title=\"Convert this dataframe to an interactive table.\"\n",
              "              style=\"display:none;\">\n",
              "        \n",
              "  <svg xmlns=\"http://www.w3.org/2000/svg\" height=\"24px\"viewBox=\"0 0 24 24\"\n",
              "       width=\"24px\">\n",
              "    <path d=\"M0 0h24v24H0V0z\" fill=\"none\"/>\n",
              "    <path d=\"M18.56 5.44l.94 2.06.94-2.06 2.06-.94-2.06-.94-.94-2.06-.94 2.06-2.06.94zm-11 1L8.5 8.5l.94-2.06 2.06-.94-2.06-.94L8.5 2.5l-.94 2.06-2.06.94zm10 10l.94 2.06.94-2.06 2.06-.94-2.06-.94-.94-2.06-.94 2.06-2.06.94z\"/><path d=\"M17.41 7.96l-1.37-1.37c-.4-.4-.92-.59-1.43-.59-.52 0-1.04.2-1.43.59L10.3 9.45l-7.72 7.72c-.78.78-.78 2.05 0 2.83L4 21.41c.39.39.9.59 1.41.59.51 0 1.02-.2 1.41-.59l7.78-7.78 2.81-2.81c.8-.78.8-2.07 0-2.86zM5.41 20L4 18.59l7.72-7.72 1.47 1.35L5.41 20z\"/>\n",
              "  </svg>\n",
              "      </button>\n",
              "      \n",
              "  <style>\n",
              "    .colab-df-container {\n",
              "      display:flex;\n",
              "      flex-wrap:wrap;\n",
              "      gap: 12px;\n",
              "    }\n",
              "\n",
              "    .colab-df-convert {\n",
              "      background-color: #E8F0FE;\n",
              "      border: none;\n",
              "      border-radius: 50%;\n",
              "      cursor: pointer;\n",
              "      display: none;\n",
              "      fill: #1967D2;\n",
              "      height: 32px;\n",
              "      padding: 0 0 0 0;\n",
              "      width: 32px;\n",
              "    }\n",
              "\n",
              "    .colab-df-convert:hover {\n",
              "      background-color: #E2EBFA;\n",
              "      box-shadow: 0px 1px 2px rgba(60, 64, 67, 0.3), 0px 1px 3px 1px rgba(60, 64, 67, 0.15);\n",
              "      fill: #174EA6;\n",
              "    }\n",
              "\n",
              "    [theme=dark] .colab-df-convert {\n",
              "      background-color: #3B4455;\n",
              "      fill: #D2E3FC;\n",
              "    }\n",
              "\n",
              "    [theme=dark] .colab-df-convert:hover {\n",
              "      background-color: #434B5C;\n",
              "      box-shadow: 0px 1px 3px 1px rgba(0, 0, 0, 0.15);\n",
              "      filter: drop-shadow(0px 1px 2px rgba(0, 0, 0, 0.3));\n",
              "      fill: #FFFFFF;\n",
              "    }\n",
              "  </style>\n",
              "\n",
              "      <script>\n",
              "        const buttonEl =\n",
              "          document.querySelector('#df-8a9808ef-a90c-457c-92eb-b84674d2ae3a button.colab-df-convert');\n",
              "        buttonEl.style.display =\n",
              "          google.colab.kernel.accessAllowed ? 'block' : 'none';\n",
              "\n",
              "        async function convertToInteractive(key) {\n",
              "          const element = document.querySelector('#df-8a9808ef-a90c-457c-92eb-b84674d2ae3a');\n",
              "          const dataTable =\n",
              "            await google.colab.kernel.invokeFunction('convertToInteractive',\n",
              "                                                     [key], {});\n",
              "          if (!dataTable) return;\n",
              "\n",
              "          const docLinkHtml = 'Like what you see? Visit the ' +\n",
              "            '<a target=\"_blank\" href=https://colab.research.google.com/notebooks/data_table.ipynb>data table notebook</a>'\n",
              "            + ' to learn more about interactive tables.';\n",
              "          element.innerHTML = '';\n",
              "          dataTable['output_type'] = 'display_data';\n",
              "          await google.colab.output.renderOutput(dataTable, element);\n",
              "          const docLink = document.createElement('div');\n",
              "          docLink.innerHTML = docLinkHtml;\n",
              "          element.appendChild(docLink);\n",
              "        }\n",
              "      </script>\n",
              "    </div>\n",
              "  </div>\n",
              "  "
            ],
            "text/plain": [
              "                                                 model   price  spec_score  \\\n",
              "600  Acer Nitro 5 AN515-46 Gaming Laptop (AMD Ryzen...  129990         NaN   \n",
              "999  Lenovo V15 82KB0003GE Laptop (11th Gen Core i3...   32499         NaN   \n",
              "\n",
              "    processor core_threads  ram  ssd graphics display   os extra_info  \\\n",
              "600       NaN          NaN  NaN  NaN      NaN     NaN  NaN    Missing   \n",
              "999       NaN          NaN  NaN  NaN      NaN     NaN  NaN    Missing   \n",
              "\n",
              "                              model_name  \n",
              "600  Acer Nitro 5 AN515-46 Gaming Laptop  \n",
              "999         Lenovo V15 82KB0003GE Laptop  "
            ]
          },
          "execution_count": 11,
          "metadata": {},
          "output_type": "execute_result"
        }
      ],
      "source": [
        "temp_df"
      ]
    },
    {
      "cell_type": "code",
      "execution_count": null,
      "metadata": {
        "colab": {
          "base_uri": "https://localhost:8080/"
        },
        "id": "EocrCT5CTGdC",
        "outputId": "0a6317aa-0427-49f0-e724-b1c6947146be"
      },
      "outputs": [
        {
          "name": "stderr",
          "output_type": "stream",
          "text": [
            "<ipython-input-9-b6218080fa39>:2: SettingWithCopyWarning: \n",
            "A value is trying to be set on a copy of a slice from a DataFrame.\n",
            "Try using .loc[row_indexer,col_indexer] = value instead\n",
            "\n",
            "See the caveats in the documentation: https://pandas.pydata.org/pandas-docs/stable/user_guide/indexing.html#returning-a-view-versus-a-copy\n",
            "  temp_df['processor'] = temp_df_list.str.get(0)\n",
            "<ipython-input-9-b6218080fa39>:3: SettingWithCopyWarning: \n",
            "A value is trying to be set on a copy of a slice from a DataFrame.\n",
            "Try using .loc[row_indexer,col_indexer] = value instead\n",
            "\n",
            "See the caveats in the documentation: https://pandas.pydata.org/pandas-docs/stable/user_guide/indexing.html#returning-a-view-versus-a-copy\n",
            "  temp_df['ram'] = temp_df_list.str.get(1)\n",
            "<ipython-input-9-b6218080fa39>:4: SettingWithCopyWarning: \n",
            "A value is trying to be set on a copy of a slice from a DataFrame.\n",
            "Try using .loc[row_indexer,col_indexer] = value instead\n",
            "\n",
            "See the caveats in the documentation: https://pandas.pydata.org/pandas-docs/stable/user_guide/indexing.html#returning-a-view-versus-a-copy\n",
            "  temp_df['ssd'] = temp_df_list.str.get(2)\n",
            "<ipython-input-9-b6218080fa39>:5: SettingWithCopyWarning: \n",
            "A value is trying to be set on a copy of a slice from a DataFrame.\n",
            "Try using .loc[row_indexer,col_indexer] = value instead\n",
            "\n",
            "See the caveats in the documentation: https://pandas.pydata.org/pandas-docs/stable/user_guide/indexing.html#returning-a-view-versus-a-copy\n",
            "  temp_df['os'] = temp_df_list.str.get(3)\n"
          ]
        }
      ],
      "source": [
        "temp_df_list = df[df['processor'].isna()]['model'].str.split('(').str.get(1).str.split('/')\n",
        "temp_df['processor'] = temp_df_list.str.get(0)\n",
        "temp_df['ram'] = temp_df_list.str.get(1)\n",
        "temp_df['ssd'] = temp_df_list.str.get(2)\n",
        "temp_df['os'] = temp_df_list.str.get(3)"
      ]
    },
    {
      "cell_type": "code",
      "execution_count": null,
      "metadata": {
        "id": "BjtEkHYrYWO5"
      },
      "outputs": [],
      "source": [
        "df.loc[temp_df.index, ['processor','ram','ssd','os']] = temp_df[['processor','ram','ssd','os']].values"
      ]
    },
    {
      "cell_type": "code",
      "execution_count": null,
      "metadata": {
        "colab": {
          "base_uri": "https://localhost:8080/"
        },
        "id": "0C9rqiiauHP4",
        "outputId": "25a2b436-4595-45cc-a7e8-7b7c783f4c92"
      },
      "outputs": [
        {
          "data": {
            "text/plain": [
              "model            0\n",
              "price            0\n",
              "spec_score      16\n",
              "processor        0\n",
              "core_threads     2\n",
              "ram              0\n",
              "ssd              0\n",
              "graphics         2\n",
              "display          2\n",
              "os               1\n",
              "extra_info       0\n",
              "model_name       0\n",
              "dtype: int64"
            ]
          },
          "execution_count": 15,
          "metadata": {},
          "output_type": "execute_result"
        }
      ],
      "source": [
        "df.isnull().sum()"
      ]
    },
    {
      "cell_type": "code",
      "execution_count": null,
      "metadata": {
        "colab": {
          "base_uri": "https://localhost:8080/",
          "height": 229
        },
        "id": "7fX-WUAHuQcd",
        "outputId": "0b9fde11-d353-43a1-a118-f100de74c890"
      },
      "outputs": [
        {
          "data": {
            "text/html": [
              "\n",
              "  <div id=\"df-d890b4c7-432a-482d-8504-f563ade15b82\">\n",
              "    <div class=\"colab-df-container\">\n",
              "      <div>\n",
              "<style scoped>\n",
              "    .dataframe tbody tr th:only-of-type {\n",
              "        vertical-align: middle;\n",
              "    }\n",
              "\n",
              "    .dataframe tbody tr th {\n",
              "        vertical-align: top;\n",
              "    }\n",
              "\n",
              "    .dataframe thead th {\n",
              "        text-align: right;\n",
              "    }\n",
              "</style>\n",
              "<table border=\"1\" class=\"dataframe\">\n",
              "  <thead>\n",
              "    <tr style=\"text-align: right;\">\n",
              "      <th></th>\n",
              "      <th>model</th>\n",
              "      <th>price</th>\n",
              "      <th>spec_score</th>\n",
              "      <th>processor</th>\n",
              "      <th>core_threads</th>\n",
              "      <th>ram</th>\n",
              "      <th>ssd</th>\n",
              "      <th>graphics</th>\n",
              "      <th>display</th>\n",
              "      <th>os</th>\n",
              "      <th>extra_info</th>\n",
              "      <th>model_name</th>\n",
              "    </tr>\n",
              "  </thead>\n",
              "  <tbody>\n",
              "    <tr>\n",
              "      <th>1010</th>\n",
              "      <td>Asus VivoBook 14 2021 X415MA-BV011W Laptop (Ce...</td>\n",
              "      <td>23990</td>\n",
              "      <td>NaN</td>\n",
              "      <td>This Renewed product is tested to work and loo...</td>\n",
              "      <td>Processor: Intel Celeron N4020</td>\n",
              "      <td>Memory: 4GB DDR4 SO-DIMM with</td>\n",
              "      <td>Storage: 256GB M.2 NVMe PCIe 3.0 SSD</td>\n",
              "      <td>Display: 14.0-inch (35.56 cm) HD (1366 x 768) ...</td>\n",
              "      <td>Graphics: Integrated Intel UHD Graphics 600</td>\n",
              "      <td>NaN</td>\n",
              "      <td>Missing</td>\n",
              "      <td>Asus VivoBook 14 2021 X415MA-BV011W Laptop</td>\n",
              "    </tr>\n",
              "  </tbody>\n",
              "</table>\n",
              "</div>\n",
              "      <button class=\"colab-df-convert\" onclick=\"convertToInteractive('df-d890b4c7-432a-482d-8504-f563ade15b82')\"\n",
              "              title=\"Convert this dataframe to an interactive table.\"\n",
              "              style=\"display:none;\">\n",
              "        \n",
              "  <svg xmlns=\"http://www.w3.org/2000/svg\" height=\"24px\"viewBox=\"0 0 24 24\"\n",
              "       width=\"24px\">\n",
              "    <path d=\"M0 0h24v24H0V0z\" fill=\"none\"/>\n",
              "    <path d=\"M18.56 5.44l.94 2.06.94-2.06 2.06-.94-2.06-.94-.94-2.06-.94 2.06-2.06.94zm-11 1L8.5 8.5l.94-2.06 2.06-.94-2.06-.94L8.5 2.5l-.94 2.06-2.06.94zm10 10l.94 2.06.94-2.06 2.06-.94-2.06-.94-.94-2.06-.94 2.06-2.06.94z\"/><path d=\"M17.41 7.96l-1.37-1.37c-.4-.4-.92-.59-1.43-.59-.52 0-1.04.2-1.43.59L10.3 9.45l-7.72 7.72c-.78.78-.78 2.05 0 2.83L4 21.41c.39.39.9.59 1.41.59.51 0 1.02-.2 1.41-.59l7.78-7.78 2.81-2.81c.8-.78.8-2.07 0-2.86zM5.41 20L4 18.59l7.72-7.72 1.47 1.35L5.41 20z\"/>\n",
              "  </svg>\n",
              "      </button>\n",
              "      \n",
              "  <style>\n",
              "    .colab-df-container {\n",
              "      display:flex;\n",
              "      flex-wrap:wrap;\n",
              "      gap: 12px;\n",
              "    }\n",
              "\n",
              "    .colab-df-convert {\n",
              "      background-color: #E8F0FE;\n",
              "      border: none;\n",
              "      border-radius: 50%;\n",
              "      cursor: pointer;\n",
              "      display: none;\n",
              "      fill: #1967D2;\n",
              "      height: 32px;\n",
              "      padding: 0 0 0 0;\n",
              "      width: 32px;\n",
              "    }\n",
              "\n",
              "    .colab-df-convert:hover {\n",
              "      background-color: #E2EBFA;\n",
              "      box-shadow: 0px 1px 2px rgba(60, 64, 67, 0.3), 0px 1px 3px 1px rgba(60, 64, 67, 0.15);\n",
              "      fill: #174EA6;\n",
              "    }\n",
              "\n",
              "    [theme=dark] .colab-df-convert {\n",
              "      background-color: #3B4455;\n",
              "      fill: #D2E3FC;\n",
              "    }\n",
              "\n",
              "    [theme=dark] .colab-df-convert:hover {\n",
              "      background-color: #434B5C;\n",
              "      box-shadow: 0px 1px 3px 1px rgba(0, 0, 0, 0.15);\n",
              "      filter: drop-shadow(0px 1px 2px rgba(0, 0, 0, 0.3));\n",
              "      fill: #FFFFFF;\n",
              "    }\n",
              "  </style>\n",
              "\n",
              "      <script>\n",
              "        const buttonEl =\n",
              "          document.querySelector('#df-d890b4c7-432a-482d-8504-f563ade15b82 button.colab-df-convert');\n",
              "        buttonEl.style.display =\n",
              "          google.colab.kernel.accessAllowed ? 'block' : 'none';\n",
              "\n",
              "        async function convertToInteractive(key) {\n",
              "          const element = document.querySelector('#df-d890b4c7-432a-482d-8504-f563ade15b82');\n",
              "          const dataTable =\n",
              "            await google.colab.kernel.invokeFunction('convertToInteractive',\n",
              "                                                     [key], {});\n",
              "          if (!dataTable) return;\n",
              "\n",
              "          const docLinkHtml = 'Like what you see? Visit the ' +\n",
              "            '<a target=\"_blank\" href=https://colab.research.google.com/notebooks/data_table.ipynb>data table notebook</a>'\n",
              "            + ' to learn more about interactive tables.';\n",
              "          element.innerHTML = '';\n",
              "          dataTable['output_type'] = 'display_data';\n",
              "          await google.colab.output.renderOutput(dataTable, element);\n",
              "          const docLink = document.createElement('div');\n",
              "          docLink.innerHTML = docLinkHtml;\n",
              "          element.appendChild(docLink);\n",
              "        }\n",
              "      </script>\n",
              "    </div>\n",
              "  </div>\n",
              "  "
            ],
            "text/plain": [
              "                                                  model  price  spec_score  \\\n",
              "1010  Asus VivoBook 14 2021 X415MA-BV011W Laptop (Ce...  23990         NaN   \n",
              "\n",
              "                                              processor  \\\n",
              "1010  This Renewed product is tested to work and loo...   \n",
              "\n",
              "                        core_threads                            ram  \\\n",
              "1010  Processor: Intel Celeron N4020  Memory: 4GB DDR4 SO-DIMM with   \n",
              "\n",
              "                                       ssd  \\\n",
              "1010  Storage: 256GB M.2 NVMe PCIe 3.0 SSD   \n",
              "\n",
              "                                               graphics  \\\n",
              "1010  Display: 14.0-inch (35.56 cm) HD (1366 x 768) ...   \n",
              "\n",
              "                                          display   os extra_info  \\\n",
              "1010  Graphics: Integrated Intel UHD Graphics 600  NaN    Missing   \n",
              "\n",
              "                                      model_name  \n",
              "1010  Asus VivoBook 14 2021 X415MA-BV011W Laptop  "
            ]
          },
          "execution_count": 11,
          "metadata": {},
          "output_type": "execute_result"
        }
      ],
      "source": [
        "df[df['os'].isna()]"
      ]
    },
    {
      "cell_type": "code",
      "execution_count": null,
      "metadata": {
        "id": "SnOBqmvXZnpO"
      },
      "outputs": [],
      "source": [
        "df.loc[1010, 'display'] = df.loc[1010,'graphics']\n",
        "df.loc[1010, 'graphics'] = np.nan"
      ]
    },
    {
      "cell_type": "code",
      "execution_count": null,
      "metadata": {
        "id": "4XBeUVc5a0Bv"
      },
      "outputs": [],
      "source": [
        "temp_df = df[df['os'].isna()]\n",
        "temp_df_list = df[df['os'].isna()]['model'].str.split('(').str.get(1).str.split('/')\n",
        "temp_df['processor'] = temp_df_list.str.get(0)\n",
        "temp_df['ram'] = temp_df_list.str.get(1)\n",
        "temp_df['ssd'] = temp_df_list.str.get(2)\n",
        "temp_df['os'] = temp_df_list.str.get(3)\n",
        "df.loc[1010, ['processor','ram','ssd','os']] = temp_df[['processor','ram','ssd','os']].values"
      ]
    },
    {
      "cell_type": "code",
      "execution_count": null,
      "metadata": {
        "colab": {
          "base_uri": "https://localhost:8080/",
          "height": 212
        },
        "id": "ckB3Ylou1GDz",
        "outputId": "887c3b2f-5612-447e-9c1c-fb04e6f47d6d"
      },
      "outputs": [
        {
          "data": {
            "text/html": [
              "\n",
              "  <div id=\"df-9acf3064-4a76-480a-80d4-8ba905650f2f\">\n",
              "    <div class=\"colab-df-container\">\n",
              "      <div>\n",
              "<style scoped>\n",
              "    .dataframe tbody tr th:only-of-type {\n",
              "        vertical-align: middle;\n",
              "    }\n",
              "\n",
              "    .dataframe tbody tr th {\n",
              "        vertical-align: top;\n",
              "    }\n",
              "\n",
              "    .dataframe thead th {\n",
              "        text-align: right;\n",
              "    }\n",
              "</style>\n",
              "<table border=\"1\" class=\"dataframe\">\n",
              "  <thead>\n",
              "    <tr style=\"text-align: right;\">\n",
              "      <th></th>\n",
              "      <th>model</th>\n",
              "      <th>price</th>\n",
              "      <th>spec_score</th>\n",
              "      <th>processor</th>\n",
              "      <th>core_threads</th>\n",
              "      <th>ram</th>\n",
              "      <th>ssd</th>\n",
              "      <th>graphics</th>\n",
              "      <th>display</th>\n",
              "      <th>os</th>\n",
              "      <th>extra_info</th>\n",
              "      <th>model_name</th>\n",
              "    </tr>\n",
              "  </thead>\n",
              "  <tbody>\n",
              "    <tr>\n",
              "      <th>1010</th>\n",
              "      <td>Asus VivoBook 14 2021 X415MA-BV011W Laptop (Ce...</td>\n",
              "      <td>23990</td>\n",
              "      <td>NaN</td>\n",
              "      <td>Celeron N4020</td>\n",
              "      <td>Processor: Intel Celeron N4020</td>\n",
              "      <td>4GB</td>\n",
              "      <td>256GB SSD</td>\n",
              "      <td>NaN</td>\n",
              "      <td>Display: 14.0-inch (35.56 cm) HD (1366 x 768) ...</td>\n",
              "      <td>Win11 Home)</td>\n",
              "      <td>Missing</td>\n",
              "      <td>Asus VivoBook 14 2021 X415MA-BV011W Laptop</td>\n",
              "    </tr>\n",
              "  </tbody>\n",
              "</table>\n",
              "</div>\n",
              "      <button class=\"colab-df-convert\" onclick=\"convertToInteractive('df-9acf3064-4a76-480a-80d4-8ba905650f2f')\"\n",
              "              title=\"Convert this dataframe to an interactive table.\"\n",
              "              style=\"display:none;\">\n",
              "        \n",
              "  <svg xmlns=\"http://www.w3.org/2000/svg\" height=\"24px\"viewBox=\"0 0 24 24\"\n",
              "       width=\"24px\">\n",
              "    <path d=\"M0 0h24v24H0V0z\" fill=\"none\"/>\n",
              "    <path d=\"M18.56 5.44l.94 2.06.94-2.06 2.06-.94-2.06-.94-.94-2.06-.94 2.06-2.06.94zm-11 1L8.5 8.5l.94-2.06 2.06-.94-2.06-.94L8.5 2.5l-.94 2.06-2.06.94zm10 10l.94 2.06.94-2.06 2.06-.94-2.06-.94-.94-2.06-.94 2.06-2.06.94z\"/><path d=\"M17.41 7.96l-1.37-1.37c-.4-.4-.92-.59-1.43-.59-.52 0-1.04.2-1.43.59L10.3 9.45l-7.72 7.72c-.78.78-.78 2.05 0 2.83L4 21.41c.39.39.9.59 1.41.59.51 0 1.02-.2 1.41-.59l7.78-7.78 2.81-2.81c.8-.78.8-2.07 0-2.86zM5.41 20L4 18.59l7.72-7.72 1.47 1.35L5.41 20z\"/>\n",
              "  </svg>\n",
              "      </button>\n",
              "      \n",
              "  <style>\n",
              "    .colab-df-container {\n",
              "      display:flex;\n",
              "      flex-wrap:wrap;\n",
              "      gap: 12px;\n",
              "    }\n",
              "\n",
              "    .colab-df-convert {\n",
              "      background-color: #E8F0FE;\n",
              "      border: none;\n",
              "      border-radius: 50%;\n",
              "      cursor: pointer;\n",
              "      display: none;\n",
              "      fill: #1967D2;\n",
              "      height: 32px;\n",
              "      padding: 0 0 0 0;\n",
              "      width: 32px;\n",
              "    }\n",
              "\n",
              "    .colab-df-convert:hover {\n",
              "      background-color: #E2EBFA;\n",
              "      box-shadow: 0px 1px 2px rgba(60, 64, 67, 0.3), 0px 1px 3px 1px rgba(60, 64, 67, 0.15);\n",
              "      fill: #174EA6;\n",
              "    }\n",
              "\n",
              "    [theme=dark] .colab-df-convert {\n",
              "      background-color: #3B4455;\n",
              "      fill: #D2E3FC;\n",
              "    }\n",
              "\n",
              "    [theme=dark] .colab-df-convert:hover {\n",
              "      background-color: #434B5C;\n",
              "      box-shadow: 0px 1px 3px 1px rgba(0, 0, 0, 0.15);\n",
              "      filter: drop-shadow(0px 1px 2px rgba(0, 0, 0, 0.3));\n",
              "      fill: #FFFFFF;\n",
              "    }\n",
              "  </style>\n",
              "\n",
              "      <script>\n",
              "        const buttonEl =\n",
              "          document.querySelector('#df-9acf3064-4a76-480a-80d4-8ba905650f2f button.colab-df-convert');\n",
              "        buttonEl.style.display =\n",
              "          google.colab.kernel.accessAllowed ? 'block' : 'none';\n",
              "\n",
              "        async function convertToInteractive(key) {\n",
              "          const element = document.querySelector('#df-9acf3064-4a76-480a-80d4-8ba905650f2f');\n",
              "          const dataTable =\n",
              "            await google.colab.kernel.invokeFunction('convertToInteractive',\n",
              "                                                     [key], {});\n",
              "          if (!dataTable) return;\n",
              "\n",
              "          const docLinkHtml = 'Like what you see? Visit the ' +\n",
              "            '<a target=\"_blank\" href=https://colab.research.google.com/notebooks/data_table.ipynb>data table notebook</a>'\n",
              "            + ' to learn more about interactive tables.';\n",
              "          element.innerHTML = '';\n",
              "          dataTable['output_type'] = 'display_data';\n",
              "          await google.colab.output.renderOutput(dataTable, element);\n",
              "          const docLink = document.createElement('div');\n",
              "          docLink.innerHTML = docLinkHtml;\n",
              "          element.appendChild(docLink);\n",
              "        }\n",
              "      </script>\n",
              "    </div>\n",
              "  </div>\n",
              "  "
            ],
            "text/plain": [
              "                                                  model  price  spec_score  \\\n",
              "1010  Asus VivoBook 14 2021 X415MA-BV011W Laptop (Ce...  23990         NaN   \n",
              "\n",
              "          processor                    core_threads   ram         ssd  \\\n",
              "1010  Celeron N4020  Processor: Intel Celeron N4020   4GB   256GB SSD   \n",
              "\n",
              "     graphics                                            display  \\\n",
              "1010      NaN  Display: 14.0-inch (35.56 cm) HD (1366 x 768) ...   \n",
              "\n",
              "                os extra_info                                  model_name  \n",
              "1010   Win11 Home)    Missing  Asus VivoBook 14 2021 X415MA-BV011W Laptop  "
            ]
          },
          "execution_count": 14,
          "metadata": {},
          "output_type": "execute_result"
        }
      ],
      "source": [
        "temp_df"
      ]
    },
    {
      "cell_type": "code",
      "execution_count": null,
      "metadata": {
        "id": "81qntMjdTGop"
      },
      "outputs": [],
      "source": [
        "df.to_csv('edited_mobiles.csv', index=False)"
      ]
    },
    {
      "cell_type": "code",
      "execution_count": null,
      "metadata": {
        "id": "z0BDh41vcNkd"
      },
      "outputs": [],
      "source": [
        "df['Hard Disk'] = np.nan"
      ]
    },
    {
      "cell_type": "code",
      "execution_count": null,
      "metadata": {
        "id": "8feaMMbXTGra"
      },
      "outputs": [],
      "source": [
        "temp_df = df[df['extra_info'].str.contains('OS')]"
      ]
    },
    {
      "cell_type": "code",
      "execution_count": null,
      "metadata": {
        "id": "bv8m3T9jRLDm"
      },
      "outputs": [],
      "source": [
        "temp_df['Hard Disk'] = temp_df['ssd']\n",
        "shift_df =  temp_df[['ssd','graphics','display','os','extra_info']].shift(-1,axis=1)\n",
        "temp_df.loc[shift_df.index, ['ssd','graphics','display','os','extra_info']] = shift_df[['ssd','graphics','display','os','extra_info']].values"
      ]
    },
    {
      "cell_type": "code",
      "execution_count": null,
      "metadata": {
        "id": "7j7R6vTOxI5_"
      },
      "outputs": [],
      "source": [
        "df.loc[temp_df.index, ['Hard Disk', 'ssd','graphics','display','os','extra_info']] = temp_df[['Hard Disk', 'ssd','graphics','display','os','extra_info']]"
      ]
    },
    {
      "cell_type": "code",
      "execution_count": null,
      "metadata": {
        "id": "lOkeAG5EqoK1"
      },
      "outputs": [],
      "source": [
        "df.to_csv('edit3.csv', index=False)"
      ]
    },
    {
      "cell_type": "code",
      "execution_count": null,
      "metadata": {
        "id": "yWhcFncDqoIH"
      },
      "outputs": [],
      "source": [
        "df1 = pd.read_csv(\"/content/edit3.csv\")"
      ]
    },
    {
      "cell_type": "code",
      "execution_count": null,
      "metadata": {
        "colab": {
          "base_uri": "https://localhost:8080/",
          "height": 312
        },
        "id": "9FVr_xdqVJsA",
        "outputId": "de9239c4-671e-4287-b205-40578e0f582c"
      },
      "outputs": [
        {
          "data": {
            "text/html": [
              "\n",
              "  <div id=\"df-8c2e3db6-8a88-49ee-8be7-28a7257d1fb7\">\n",
              "    <div class=\"colab-df-container\">\n",
              "      <div>\n",
              "<style scoped>\n",
              "    .dataframe tbody tr th:only-of-type {\n",
              "        vertical-align: middle;\n",
              "    }\n",
              "\n",
              "    .dataframe tbody tr th {\n",
              "        vertical-align: top;\n",
              "    }\n",
              "\n",
              "    .dataframe thead th {\n",
              "        text-align: right;\n",
              "    }\n",
              "</style>\n",
              "<table border=\"1\" class=\"dataframe\">\n",
              "  <thead>\n",
              "    <tr style=\"text-align: right;\">\n",
              "      <th></th>\n",
              "      <th>model</th>\n",
              "      <th>price</th>\n",
              "      <th>spec_score</th>\n",
              "      <th>processor</th>\n",
              "      <th>core_threads</th>\n",
              "      <th>ram</th>\n",
              "      <th>ssd</th>\n",
              "      <th>graphics</th>\n",
              "      <th>display</th>\n",
              "      <th>os</th>\n",
              "      <th>extra_info</th>\n",
              "      <th>model_name</th>\n",
              "      <th>Hard Disk</th>\n",
              "    </tr>\n",
              "  </thead>\n",
              "  <tbody>\n",
              "    <tr>\n",
              "      <th>0</th>\n",
              "      <td>Lenovo V15 ITL G2 82KBA033IH Laptop (11th Gen ...</td>\n",
              "      <td>33921</td>\n",
              "      <td>62.0</td>\n",
              "      <td>11th Gen Intel Core i3 1115G4</td>\n",
              "      <td>Dual Core, 4 Threads</td>\n",
              "      <td>8 GB DDR4 RAM</td>\n",
              "      <td>512 GB SSD</td>\n",
              "      <td>Intel Integrated UHD</td>\n",
              "      <td>15.6 inches, 1920 x 1080 pixels</td>\n",
              "      <td>Windows 11 OS</td>\n",
              "      <td>1 Year Warranty</td>\n",
              "      <td>Lenovo V15 ITL G2 82KBA033IH Laptop</td>\n",
              "      <td>NaN</td>\n",
              "    </tr>\n",
              "    <tr>\n",
              "      <th>1</th>\n",
              "      <td>HP Pavilion 15-ec2004AX Gaming Laptop (AMD Ryz...</td>\n",
              "      <td>56150</td>\n",
              "      <td>66.0</td>\n",
              "      <td>5th Gen AMD Ryzen 5  5600H</td>\n",
              "      <td>Hexa Core, 12 Threads</td>\n",
              "      <td>8 GB DDR4 RAM</td>\n",
              "      <td>512 GB SSD</td>\n",
              "      <td>4 GB NVIDIA GeForce GTX 1650</td>\n",
              "      <td>15.6 inches, 1920 x 1080 pixels</td>\n",
              "      <td>Windows 10 OS</td>\n",
              "      <td>1 Year Warranty</td>\n",
              "      <td>HP Pavilion 15-ec2004AX Gaming Laptop</td>\n",
              "      <td>NaN</td>\n",
              "    </tr>\n",
              "  </tbody>\n",
              "</table>\n",
              "</div>\n",
              "      <button class=\"colab-df-convert\" onclick=\"convertToInteractive('df-8c2e3db6-8a88-49ee-8be7-28a7257d1fb7')\"\n",
              "              title=\"Convert this dataframe to an interactive table.\"\n",
              "              style=\"display:none;\">\n",
              "        \n",
              "  <svg xmlns=\"http://www.w3.org/2000/svg\" height=\"24px\"viewBox=\"0 0 24 24\"\n",
              "       width=\"24px\">\n",
              "    <path d=\"M0 0h24v24H0V0z\" fill=\"none\"/>\n",
              "    <path d=\"M18.56 5.44l.94 2.06.94-2.06 2.06-.94-2.06-.94-.94-2.06-.94 2.06-2.06.94zm-11 1L8.5 8.5l.94-2.06 2.06-.94-2.06-.94L8.5 2.5l-.94 2.06-2.06.94zm10 10l.94 2.06.94-2.06 2.06-.94-2.06-.94-.94-2.06-.94 2.06-2.06.94z\"/><path d=\"M17.41 7.96l-1.37-1.37c-.4-.4-.92-.59-1.43-.59-.52 0-1.04.2-1.43.59L10.3 9.45l-7.72 7.72c-.78.78-.78 2.05 0 2.83L4 21.41c.39.39.9.59 1.41.59.51 0 1.02-.2 1.41-.59l7.78-7.78 2.81-2.81c.8-.78.8-2.07 0-2.86zM5.41 20L4 18.59l7.72-7.72 1.47 1.35L5.41 20z\"/>\n",
              "  </svg>\n",
              "      </button>\n",
              "      \n",
              "  <style>\n",
              "    .colab-df-container {\n",
              "      display:flex;\n",
              "      flex-wrap:wrap;\n",
              "      gap: 12px;\n",
              "    }\n",
              "\n",
              "    .colab-df-convert {\n",
              "      background-color: #E8F0FE;\n",
              "      border: none;\n",
              "      border-radius: 50%;\n",
              "      cursor: pointer;\n",
              "      display: none;\n",
              "      fill: #1967D2;\n",
              "      height: 32px;\n",
              "      padding: 0 0 0 0;\n",
              "      width: 32px;\n",
              "    }\n",
              "\n",
              "    .colab-df-convert:hover {\n",
              "      background-color: #E2EBFA;\n",
              "      box-shadow: 0px 1px 2px rgba(60, 64, 67, 0.3), 0px 1px 3px 1px rgba(60, 64, 67, 0.15);\n",
              "      fill: #174EA6;\n",
              "    }\n",
              "\n",
              "    [theme=dark] .colab-df-convert {\n",
              "      background-color: #3B4455;\n",
              "      fill: #D2E3FC;\n",
              "    }\n",
              "\n",
              "    [theme=dark] .colab-df-convert:hover {\n",
              "      background-color: #434B5C;\n",
              "      box-shadow: 0px 1px 3px 1px rgba(0, 0, 0, 0.15);\n",
              "      filter: drop-shadow(0px 1px 2px rgba(0, 0, 0, 0.3));\n",
              "      fill: #FFFFFF;\n",
              "    }\n",
              "  </style>\n",
              "\n",
              "      <script>\n",
              "        const buttonEl =\n",
              "          document.querySelector('#df-8c2e3db6-8a88-49ee-8be7-28a7257d1fb7 button.colab-df-convert');\n",
              "        buttonEl.style.display =\n",
              "          google.colab.kernel.accessAllowed ? 'block' : 'none';\n",
              "\n",
              "        async function convertToInteractive(key) {\n",
              "          const element = document.querySelector('#df-8c2e3db6-8a88-49ee-8be7-28a7257d1fb7');\n",
              "          const dataTable =\n",
              "            await google.colab.kernel.invokeFunction('convertToInteractive',\n",
              "                                                     [key], {});\n",
              "          if (!dataTable) return;\n",
              "\n",
              "          const docLinkHtml = 'Like what you see? Visit the ' +\n",
              "            '<a target=\"_blank\" href=https://colab.research.google.com/notebooks/data_table.ipynb>data table notebook</a>'\n",
              "            + ' to learn more about interactive tables.';\n",
              "          element.innerHTML = '';\n",
              "          dataTable['output_type'] = 'display_data';\n",
              "          await google.colab.output.renderOutput(dataTable, element);\n",
              "          const docLink = document.createElement('div');\n",
              "          docLink.innerHTML = docLinkHtml;\n",
              "          element.appendChild(docLink);\n",
              "        }\n",
              "      </script>\n",
              "    </div>\n",
              "  </div>\n",
              "  "
            ],
            "text/plain": [
              "                                               model  price  spec_score  \\\n",
              "0  Lenovo V15 ITL G2 82KBA033IH Laptop (11th Gen ...  33921        62.0   \n",
              "1  HP Pavilion 15-ec2004AX Gaming Laptop (AMD Ryz...  56150        66.0   \n",
              "\n",
              "                       processor           core_threads            ram  \\\n",
              "0  11th Gen Intel Core i3 1115G4   Dual Core, 4 Threads  8 GB DDR4 RAM   \n",
              "1     5th Gen AMD Ryzen 5  5600H  Hexa Core, 12 Threads  8 GB DDR4 RAM   \n",
              "\n",
              "          ssd                      graphics                          display  \\\n",
              "0  512 GB SSD          Intel Integrated UHD  15.6 inches, 1920 x 1080 pixels   \n",
              "1  512 GB SSD  4 GB NVIDIA GeForce GTX 1650  15.6 inches, 1920 x 1080 pixels   \n",
              "\n",
              "              os       extra_info                             model_name  \\\n",
              "0  Windows 11 OS  1 Year Warranty    Lenovo V15 ITL G2 82KBA033IH Laptop   \n",
              "1  Windows 10 OS  1 Year Warranty  HP Pavilion 15-ec2004AX Gaming Laptop   \n",
              "\n",
              "  Hard Disk  \n",
              "0       NaN  \n",
              "1       NaN  "
            ]
          },
          "execution_count": 22,
          "metadata": {},
          "output_type": "execute_result"
        }
      ],
      "source": [
        "df1.head(2)"
      ]
    },
    {
      "cell_type": "code",
      "execution_count": null,
      "metadata": {
        "id": "T7g8nO4BVt2e"
      },
      "outputs": [],
      "source": [
        "df1.loc[1010]"
      ]
    },
    {
      "cell_type": "code",
      "execution_count": null,
      "metadata": {
        "id": "D0QjsP_ar3J1"
      },
      "outputs": [],
      "source": [
        "df1.loc[1010, 'os'] = df1.loc[1010]['os'][2:-3].strip()\n",
        "df1.loc[1010, 'processor'] = df1.loc[1010]['processor'][2:-2]\n",
        "df1.loc[1010, 'ram'] = df1.loc[1010]['ram'][2:-2].strip()\n",
        "df1.loc[1010, 'ssd'] = df1.loc[1010]['ssd'][2:-2].strip()"
      ]
    },
    {
      "cell_type": "code",
      "execution_count": null,
      "metadata": {
        "id": "UM7hMK2AGdpR"
      },
      "outputs": [],
      "source": [
        "df1.to_csv('edit5.csv', index=False)"
      ]
    },
    {
      "cell_type": "code",
      "execution_count": null,
      "metadata": {
        "colab": {
          "base_uri": "https://localhost:8080/"
        },
        "id": "flCiYGNQGtTc",
        "outputId": "31462005-0dc5-480d-869c-78772a3a8248"
      },
      "outputs": [
        {
          "data": {
            "text/plain": [
              "Quad Core, 8 Threads               177\n",
              "Octa Core, 16 Threads              147\n",
              "Dual Core, 4 Threads               129\n",
              "Hexa Core, 12 Threads              120\n",
              "10 Cores (2P + 8E), 12 Threads     103\n",
              "14 Cores (6P + 8E), 20 Threads      85\n",
              "12 Cores (4P + 8E), 16 Threads      84\n",
              "Dual Core, 2 Threads                39\n",
              "Hexa Core (2P + 4E), 8 Threads      20\n",
              "Octa Core (4P + 4E), 12 Threads     15\n",
              "10 Cores, 12 Threads                14\n",
              "Quad Core, 4 Threads                12\n",
              "Octa Core                           10\n",
              "10 Cores (6P + 4E), 16 Threads      10\n",
              "Quad Core                            9\n",
              "14 Cores, 20 Threads                 7\n",
              "Octa Core (4P + 4E)                  6\n",
              "16 Cores (8P + 8E), 24 Threads       5\n",
              "Dual Core                            5\n",
              "12 Cores (8P + 4E)                   3\n",
              "10 Cores                             2\n",
              "12 Cores                             2\n",
              "Octa Core, 12 Threads                2\n",
              "Quad Core, 2 Threads                 1\n",
              "Octa Core (6P + 2E)                  1\n",
              "Hexa Core, 6 Threads                 1\n",
              "16 Cores, 24 Threads                 1\n",
              "Octa Core, 20 Threads                1\n",
              "20 Threads                           1\n",
              "Processor: Intel Celeron N4020       1\n",
              "Name: core_threads, dtype: int64"
            ]
          },
          "execution_count": 74,
          "metadata": {},
          "output_type": "execute_result"
        }
      ],
      "source": [
        "df1['core_threads'].value_counts()"
      ]
    },
    {
      "cell_type": "code",
      "execution_count": null,
      "metadata": {
        "colab": {
          "base_uri": "https://localhost:8080/",
          "height": 49
        },
        "id": "JRoFlOUvLC4V",
        "outputId": "36d29efb-53d2-4a22-e1d3-d5db05073ef0"
      },
      "outputs": [
        {
          "data": {
            "text/html": [
              "\n",
              "  <div id=\"df-8b6fc6d0-6161-4ae7-b0f0-b99217adcbe4\">\n",
              "    <div class=\"colab-df-container\">\n",
              "      <div>\n",
              "<style scoped>\n",
              "    .dataframe tbody tr th:only-of-type {\n",
              "        vertical-align: middle;\n",
              "    }\n",
              "\n",
              "    .dataframe tbody tr th {\n",
              "        vertical-align: top;\n",
              "    }\n",
              "\n",
              "    .dataframe thead th {\n",
              "        text-align: right;\n",
              "    }\n",
              "</style>\n",
              "<table border=\"1\" class=\"dataframe\">\n",
              "  <thead>\n",
              "    <tr style=\"text-align: right;\">\n",
              "      <th></th>\n",
              "      <th>model</th>\n",
              "      <th>price</th>\n",
              "      <th>spec_score</th>\n",
              "      <th>processor</th>\n",
              "      <th>core_threads</th>\n",
              "      <th>ram</th>\n",
              "      <th>ssd</th>\n",
              "      <th>graphics</th>\n",
              "      <th>display</th>\n",
              "      <th>os</th>\n",
              "      <th>extra_info</th>\n",
              "      <th>model_name</th>\n",
              "      <th>Hard Disk</th>\n",
              "    </tr>\n",
              "  </thead>\n",
              "  <tbody>\n",
              "  </tbody>\n",
              "</table>\n",
              "</div>\n",
              "      <button class=\"colab-df-convert\" onclick=\"convertToInteractive('df-8b6fc6d0-6161-4ae7-b0f0-b99217adcbe4')\"\n",
              "              title=\"Convert this dataframe to an interactive table.\"\n",
              "              style=\"display:none;\">\n",
              "        \n",
              "  <svg xmlns=\"http://www.w3.org/2000/svg\" height=\"24px\"viewBox=\"0 0 24 24\"\n",
              "       width=\"24px\">\n",
              "    <path d=\"M0 0h24v24H0V0z\" fill=\"none\"/>\n",
              "    <path d=\"M18.56 5.44l.94 2.06.94-2.06 2.06-.94-2.06-.94-.94-2.06-.94 2.06-2.06.94zm-11 1L8.5 8.5l.94-2.06 2.06-.94-2.06-.94L8.5 2.5l-.94 2.06-2.06.94zm10 10l.94 2.06.94-2.06 2.06-.94-2.06-.94-.94-2.06-.94 2.06-2.06.94z\"/><path d=\"M17.41 7.96l-1.37-1.37c-.4-.4-.92-.59-1.43-.59-.52 0-1.04.2-1.43.59L10.3 9.45l-7.72 7.72c-.78.78-.78 2.05 0 2.83L4 21.41c.39.39.9.59 1.41.59.51 0 1.02-.2 1.41-.59l7.78-7.78 2.81-2.81c.8-.78.8-2.07 0-2.86zM5.41 20L4 18.59l7.72-7.72 1.47 1.35L5.41 20z\"/>\n",
              "  </svg>\n",
              "      </button>\n",
              "      \n",
              "  <style>\n",
              "    .colab-df-container {\n",
              "      display:flex;\n",
              "      flex-wrap:wrap;\n",
              "      gap: 12px;\n",
              "    }\n",
              "\n",
              "    .colab-df-convert {\n",
              "      background-color: #E8F0FE;\n",
              "      border: none;\n",
              "      border-radius: 50%;\n",
              "      cursor: pointer;\n",
              "      display: none;\n",
              "      fill: #1967D2;\n",
              "      height: 32px;\n",
              "      padding: 0 0 0 0;\n",
              "      width: 32px;\n",
              "    }\n",
              "\n",
              "    .colab-df-convert:hover {\n",
              "      background-color: #E2EBFA;\n",
              "      box-shadow: 0px 1px 2px rgba(60, 64, 67, 0.3), 0px 1px 3px 1px rgba(60, 64, 67, 0.15);\n",
              "      fill: #174EA6;\n",
              "    }\n",
              "\n",
              "    [theme=dark] .colab-df-convert {\n",
              "      background-color: #3B4455;\n",
              "      fill: #D2E3FC;\n",
              "    }\n",
              "\n",
              "    [theme=dark] .colab-df-convert:hover {\n",
              "      background-color: #434B5C;\n",
              "      box-shadow: 0px 1px 3px 1px rgba(0, 0, 0, 0.15);\n",
              "      filter: drop-shadow(0px 1px 2px rgba(0, 0, 0, 0.3));\n",
              "      fill: #FFFFFF;\n",
              "    }\n",
              "  </style>\n",
              "\n",
              "      <script>\n",
              "        const buttonEl =\n",
              "          document.querySelector('#df-8b6fc6d0-6161-4ae7-b0f0-b99217adcbe4 button.colab-df-convert');\n",
              "        buttonEl.style.display =\n",
              "          google.colab.kernel.accessAllowed ? 'block' : 'none';\n",
              "\n",
              "        async function convertToInteractive(key) {\n",
              "          const element = document.querySelector('#df-8b6fc6d0-6161-4ae7-b0f0-b99217adcbe4');\n",
              "          const dataTable =\n",
              "            await google.colab.kernel.invokeFunction('convertToInteractive',\n",
              "                                                     [key], {});\n",
              "          if (!dataTable) return;\n",
              "\n",
              "          const docLinkHtml = 'Like what you see? Visit the ' +\n",
              "            '<a target=\"_blank\" href=https://colab.research.google.com/notebooks/data_table.ipynb>data table notebook</a>'\n",
              "            + ' to learn more about interactive tables.';\n",
              "          element.innerHTML = '';\n",
              "          dataTable['output_type'] = 'display_data';\n",
              "          await google.colab.output.renderOutput(dataTable, element);\n",
              "          const docLink = document.createElement('div');\n",
              "          docLink.innerHTML = docLinkHtml;\n",
              "          element.appendChild(docLink);\n",
              "        }\n",
              "      </script>\n",
              "    </div>\n",
              "  </div>\n",
              "  "
            ],
            "text/plain": [
              "Empty DataFrame\n",
              "Columns: [model, price, spec_score, processor, core_threads, ram, ssd, graphics, display, os, extra_info, model_name, Hard Disk]\n",
              "Index: []"
            ]
          },
          "execution_count": 30,
          "metadata": {},
          "output_type": "execute_result"
        }
      ],
      "source": [
        "df1[df1['core_threads'] == 'Memory & Storage: 8 GB DDR4-3200 MHz RAM (1 x 8GB)']"
      ]
    },
    {
      "cell_type": "code",
      "execution_count": null,
      "metadata": {
        "id": "jayz9GxEHshF"
      },
      "outputs": [],
      "source": [
        "df1.loc[626, 'core_threads'] = np.nan"
      ]
    },
    {
      "cell_type": "code",
      "execution_count": null,
      "metadata": {
        "id": "fU4SDn7OLPJj"
      },
      "outputs": [],
      "source": [
        "df1.loc[626, 'display'] = df1.loc[626, 'ssd']"
      ]
    },
    {
      "cell_type": "code",
      "execution_count": null,
      "metadata": {
        "id": "jLuyKLcSKvkq"
      },
      "outputs": [],
      "source": [
        "temp_df_list = df1[df1['model'] == df1.loc[626]['model']]['model'].str.split('(').str.get(1).str.split('/')\n",
        "df1.loc[626, 'processor'] = temp_df_list.str.get(0).values\n",
        "df1.loc[626, 'ram'] = temp_df_list.str.get(1).values\n",
        "df1.loc[626, 'ssd'] = temp_df_list.str.get(2).values\n",
        "df1.loc[626, 'os'] = temp_df_list.str.get(3).values\n",
        "df1.loc[626, 'core_threads'] = np.nan"
      ]
    },
    {
      "cell_type": "code",
      "execution_count": null,
      "metadata": {
        "id": "mI2NQTs8MMqV"
      },
      "outputs": [],
      "source": [
        "df1.loc[626, 'os'] = df1.loc[626, 'os'].strip()[:-2]"
      ]
    },
    {
      "cell_type": "code",
      "execution_count": null,
      "metadata": {
        "colab": {
          "base_uri": "https://localhost:8080/"
        },
        "id": "TGW4NBe3Ld0X",
        "outputId": "2083919e-496b-4f9c-8dd7-347dc5867b97"
      },
      "outputs": [
        {
          "data": {
            "text/plain": [
              "model           HP 430 G8 366B1PA Business Laptop (11th Gen Co...\n",
              "price                                                      111500\n",
              "spec_score                                                    NaN\n",
              "processor                                        11th Gen Core i7\n",
              "core_threads                                                  NaN\n",
              "ram                                                           8GB\n",
              "ssd                                                     512GB SSD\n",
              "graphics             Graphics & Networking: Intel Iris X Graphics\n",
              "display                         Display: 33.8 cm (13.3\") diagonal\n",
              "os                                                          Win10\n",
              "extra_info      In an unlikely case of product quality related...\n",
              "model_name                      HP 430 G8 366B1PA Business Laptop\n",
              "Hard Disk                                                     NaN\n",
              "Name: 626, dtype: object"
            ]
          },
          "execution_count": 34,
          "metadata": {},
          "output_type": "execute_result"
        }
      ],
      "source": [
        "df1.loc[626]"
      ]
    },
    {
      "cell_type": "code",
      "execution_count": null,
      "metadata": {
        "colab": {
          "base_uri": "https://localhost:8080/",
          "height": 232
        },
        "id": "OWMnfaUgMzBr",
        "outputId": "d2554e08-01df-470f-fbbc-742bb217b039"
      },
      "outputs": [
        {
          "data": {
            "text/html": [
              "\n",
              "  <div id=\"df-0962870c-c4bc-463e-994f-6dc6e76596cf\">\n",
              "    <div class=\"colab-df-container\">\n",
              "      <div>\n",
              "<style scoped>\n",
              "    .dataframe tbody tr th:only-of-type {\n",
              "        vertical-align: middle;\n",
              "    }\n",
              "\n",
              "    .dataframe tbody tr th {\n",
              "        vertical-align: top;\n",
              "    }\n",
              "\n",
              "    .dataframe thead th {\n",
              "        text-align: right;\n",
              "    }\n",
              "</style>\n",
              "<table border=\"1\" class=\"dataframe\">\n",
              "  <thead>\n",
              "    <tr style=\"text-align: right;\">\n",
              "      <th></th>\n",
              "      <th>model</th>\n",
              "      <th>price</th>\n",
              "      <th>spec_score</th>\n",
              "      <th>processor</th>\n",
              "      <th>core_threads</th>\n",
              "      <th>ram</th>\n",
              "      <th>ssd</th>\n",
              "      <th>graphics</th>\n",
              "      <th>display</th>\n",
              "      <th>os</th>\n",
              "      <th>extra_info</th>\n",
              "      <th>model_name</th>\n",
              "      <th>Hard Disk</th>\n",
              "    </tr>\n",
              "  </thead>\n",
              "  <tbody>\n",
              "    <tr>\n",
              "      <th>158</th>\n",
              "      <td>Samsung Galaxy Book Go Laptop (Snapdragon 7c/ ...</td>\n",
              "      <td>32990</td>\n",
              "      <td>NaN</td>\n",
              "      <td>2nd Gen Qualcomm Snapdragon 7c</td>\n",
              "      <td>4 GB LPDDR4x  RAM</td>\n",
              "      <td>128 GB Hard Disk</td>\n",
              "      <td>Qualcomm Adreno</td>\n",
              "      <td>14 inches, 1920 x 1080 pixels</td>\n",
              "      <td>Windows 11 OS</td>\n",
              "      <td>1 Year Warranty</td>\n",
              "      <td>Missing</td>\n",
              "      <td>Samsung Galaxy Book Go Laptop</td>\n",
              "      <td>128 GB Hard Disk</td>\n",
              "    </tr>\n",
              "  </tbody>\n",
              "</table>\n",
              "</div>\n",
              "      <button class=\"colab-df-convert\" onclick=\"convertToInteractive('df-0962870c-c4bc-463e-994f-6dc6e76596cf')\"\n",
              "              title=\"Convert this dataframe to an interactive table.\"\n",
              "              style=\"display:none;\">\n",
              "        \n",
              "  <svg xmlns=\"http://www.w3.org/2000/svg\" height=\"24px\"viewBox=\"0 0 24 24\"\n",
              "       width=\"24px\">\n",
              "    <path d=\"M0 0h24v24H0V0z\" fill=\"none\"/>\n",
              "    <path d=\"M18.56 5.44l.94 2.06.94-2.06 2.06-.94-2.06-.94-.94-2.06-.94 2.06-2.06.94zm-11 1L8.5 8.5l.94-2.06 2.06-.94-2.06-.94L8.5 2.5l-.94 2.06-2.06.94zm10 10l.94 2.06.94-2.06 2.06-.94-2.06-.94-.94-2.06-.94 2.06-2.06.94z\"/><path d=\"M17.41 7.96l-1.37-1.37c-.4-.4-.92-.59-1.43-.59-.52 0-1.04.2-1.43.59L10.3 9.45l-7.72 7.72c-.78.78-.78 2.05 0 2.83L4 21.41c.39.39.9.59 1.41.59.51 0 1.02-.2 1.41-.59l7.78-7.78 2.81-2.81c.8-.78.8-2.07 0-2.86zM5.41 20L4 18.59l7.72-7.72 1.47 1.35L5.41 20z\"/>\n",
              "  </svg>\n",
              "      </button>\n",
              "      \n",
              "  <style>\n",
              "    .colab-df-container {\n",
              "      display:flex;\n",
              "      flex-wrap:wrap;\n",
              "      gap: 12px;\n",
              "    }\n",
              "\n",
              "    .colab-df-convert {\n",
              "      background-color: #E8F0FE;\n",
              "      border: none;\n",
              "      border-radius: 50%;\n",
              "      cursor: pointer;\n",
              "      display: none;\n",
              "      fill: #1967D2;\n",
              "      height: 32px;\n",
              "      padding: 0 0 0 0;\n",
              "      width: 32px;\n",
              "    }\n",
              "\n",
              "    .colab-df-convert:hover {\n",
              "      background-color: #E2EBFA;\n",
              "      box-shadow: 0px 1px 2px rgba(60, 64, 67, 0.3), 0px 1px 3px 1px rgba(60, 64, 67, 0.15);\n",
              "      fill: #174EA6;\n",
              "    }\n",
              "\n",
              "    [theme=dark] .colab-df-convert {\n",
              "      background-color: #3B4455;\n",
              "      fill: #D2E3FC;\n",
              "    }\n",
              "\n",
              "    [theme=dark] .colab-df-convert:hover {\n",
              "      background-color: #434B5C;\n",
              "      box-shadow: 0px 1px 3px 1px rgba(0, 0, 0, 0.15);\n",
              "      filter: drop-shadow(0px 1px 2px rgba(0, 0, 0, 0.3));\n",
              "      fill: #FFFFFF;\n",
              "    }\n",
              "  </style>\n",
              "\n",
              "      <script>\n",
              "        const buttonEl =\n",
              "          document.querySelector('#df-0962870c-c4bc-463e-994f-6dc6e76596cf button.colab-df-convert');\n",
              "        buttonEl.style.display =\n",
              "          google.colab.kernel.accessAllowed ? 'block' : 'none';\n",
              "\n",
              "        async function convertToInteractive(key) {\n",
              "          const element = document.querySelector('#df-0962870c-c4bc-463e-994f-6dc6e76596cf');\n",
              "          const dataTable =\n",
              "            await google.colab.kernel.invokeFunction('convertToInteractive',\n",
              "                                                     [key], {});\n",
              "          if (!dataTable) return;\n",
              "\n",
              "          const docLinkHtml = 'Like what you see? Visit the ' +\n",
              "            '<a target=\"_blank\" href=https://colab.research.google.com/notebooks/data_table.ipynb>data table notebook</a>'\n",
              "            + ' to learn more about interactive tables.';\n",
              "          element.innerHTML = '';\n",
              "          dataTable['output_type'] = 'display_data';\n",
              "          await google.colab.output.renderOutput(dataTable, element);\n",
              "          const docLink = document.createElement('div');\n",
              "          docLink.innerHTML = docLinkHtml;\n",
              "          element.appendChild(docLink);\n",
              "        }\n",
              "      </script>\n",
              "    </div>\n",
              "  </div>\n",
              "  "
            ],
            "text/plain": [
              "                                                 model  price  spec_score  \\\n",
              "158  Samsung Galaxy Book Go Laptop (Snapdragon 7c/ ...  32990         NaN   \n",
              "\n",
              "                          processor       core_threads               ram  \\\n",
              "158  2nd Gen Qualcomm Snapdragon 7c  4 GB LPDDR4x  RAM  128 GB Hard Disk   \n",
              "\n",
              "                 ssd                       graphics        display  \\\n",
              "158  Qualcomm Adreno  14 inches, 1920 x 1080 pixels  Windows 11 OS   \n",
              "\n",
              "                  os extra_info                     model_name  \\\n",
              "158  1 Year Warranty    Missing  Samsung Galaxy Book Go Laptop   \n",
              "\n",
              "            Hard Disk  \n",
              "158  128 GB Hard Disk  "
            ]
          },
          "execution_count": 38,
          "metadata": {},
          "output_type": "execute_result"
        }
      ],
      "source": [
        "df1[df1['core_threads'] == '4 GB LPDDR4x  RAM']"
      ]
    },
    {
      "cell_type": "code",
      "execution_count": null,
      "metadata": {
        "id": "yqkAqLZ-W5xx"
      },
      "outputs": [],
      "source": [
        "df1.loc[158, 'Hard Disk'] = df1.loc[158, 'ram']"
      ]
    },
    {
      "cell_type": "code",
      "execution_count": null,
      "metadata": {
        "id": "y4iQTM-YZG-R"
      },
      "outputs": [],
      "source": [
        "df1.loc[158, 'ram'] = df1.loc[158, 'core_threads']"
      ]
    },
    {
      "cell_type": "code",
      "execution_count": null,
      "metadata": {
        "id": "A8a8rabxZZIx"
      },
      "outputs": [],
      "source": [
        "df1.loc[158, 'core_threads'] = np.nan"
      ]
    },
    {
      "cell_type": "code",
      "execution_count": null,
      "metadata": {
        "colab": {
          "base_uri": "https://localhost:8080/"
        },
        "id": "yq_0vGEoZQ7B",
        "outputId": "5c684805-8ede-4d4d-d6b5-59c5afdadf83"
      },
      "outputs": [
        {
          "data": {
            "text/plain": [
              "model           Samsung Galaxy Book Go Laptop (Snapdragon 7c/ ...\n",
              "price                                                       32990\n",
              "spec_score                                                    NaN\n",
              "processor                          2nd Gen Qualcomm Snapdragon 7c\n",
              "core_threads                                                  NaN\n",
              "ram                                             4 GB LPDDR4x  RAM\n",
              "ssd                                               Qualcomm Adreno\n",
              "graphics                            14 inches, 1920 x 1080 pixels\n",
              "display                                             Windows 11 OS\n",
              "os                                                1 Year Warranty\n",
              "extra_info                                                Missing\n",
              "model_name                          Samsung Galaxy Book Go Laptop\n",
              "Hard Disk                                        128 GB Hard Disk\n",
              "Name: 158, dtype: object"
            ]
          },
          "execution_count": 55,
          "metadata": {},
          "output_type": "execute_result"
        }
      ],
      "source": [
        "df1.loc[158]"
      ]
    },
    {
      "cell_type": "code",
      "execution_count": null,
      "metadata": {
        "id": "vYlffN9QXsC2"
      },
      "outputs": [],
      "source": [
        "temp_df = df1.copy()"
      ]
    },
    {
      "cell_type": "code",
      "execution_count": null,
      "metadata": {
        "colab": {
          "base_uri": "https://localhost:8080/"
        },
        "id": "YzfWzlD6Y-00",
        "outputId": "78091863-b2a2-4384-fcf5-3b0b039bb4d4"
      },
      "outputs": [
        {
          "data": {
            "text/plain": [
              "model           Samsung Galaxy Book Go Laptop (Snapdragon 7c/ ...\n",
              "price                                                       32990\n",
              "spec_score                                                    NaN\n",
              "processor                          2nd Gen Qualcomm Snapdragon 7c\n",
              "core_threads                                                  NaN\n",
              "ram                                             4 GB LPDDR4x  RAM\n",
              "ssd                                                           NaN\n",
              "graphics                                          Qualcomm Adreno\n",
              "display                             14 inches, 1920 x 1080 pixels\n",
              "os                                                  Windows 11 OS\n",
              "extra_info                                        1 Year Warranty\n",
              "model_name                          Samsung Galaxy Book Go Laptop\n",
              "Hard Disk                                        128 GB Hard Disk\n",
              "Name: 158, dtype: object"
            ]
          },
          "execution_count": 60,
          "metadata": {},
          "output_type": "execute_result"
        }
      ],
      "source": [
        "df1.loc[158]"
      ]
    },
    {
      "cell_type": "code",
      "execution_count": null,
      "metadata": {
        "id": "KpbLNrV1XXkR"
      },
      "outputs": [],
      "source": [
        "df1.loc[158, ['ssd','graphics','display','os','extra_info']] = df1.loc[158, ['ssd','graphics','display','os','extra_info']].shift(1)\n",
        "# temp_df.loc[shift_df.index, ['ssd','graphics','display','os','extra_info']] = shift_df[['ssd','graphics','display','os','extra_info']].values"
      ]
    },
    {
      "cell_type": "code",
      "execution_count": null,
      "metadata": {
        "colab": {
          "base_uri": "https://localhost:8080/",
          "height": 430
        },
        "id": "9eriHcA6aFVH",
        "outputId": "ccd4edaa-17f7-4dcc-e23b-b26b2f921164"
      },
      "outputs": [
        {
          "data": {
            "text/html": [
              "\n",
              "  <div id=\"df-8bd933cb-c3ed-4157-af21-90c953989a61\">\n",
              "    <div class=\"colab-df-container\">\n",
              "      <div>\n",
              "<style scoped>\n",
              "    .dataframe tbody tr th:only-of-type {\n",
              "        vertical-align: middle;\n",
              "    }\n",
              "\n",
              "    .dataframe tbody tr th {\n",
              "        vertical-align: top;\n",
              "    }\n",
              "\n",
              "    .dataframe thead th {\n",
              "        text-align: right;\n",
              "    }\n",
              "</style>\n",
              "<table border=\"1\" class=\"dataframe\">\n",
              "  <thead>\n",
              "    <tr style=\"text-align: right;\">\n",
              "      <th></th>\n",
              "      <th>model</th>\n",
              "      <th>price</th>\n",
              "      <th>spec_score</th>\n",
              "      <th>processor</th>\n",
              "      <th>core_threads</th>\n",
              "      <th>ram</th>\n",
              "      <th>ssd</th>\n",
              "      <th>graphics</th>\n",
              "      <th>display</th>\n",
              "      <th>os</th>\n",
              "      <th>extra_info</th>\n",
              "      <th>model_name</th>\n",
              "      <th>Hard Disk</th>\n",
              "    </tr>\n",
              "  </thead>\n",
              "  <tbody>\n",
              "    <tr>\n",
              "      <th>463</th>\n",
              "      <td>HP 240 G8 689T7PA Business Laptop (intel Core ...</td>\n",
              "      <td>34440</td>\n",
              "      <td>50.0</td>\n",
              "      <td>Intel Core i3</td>\n",
              "      <td>8 GB DDR4 RAM</td>\n",
              "      <td>512 GB SSD</td>\n",
              "      <td>Intel Integrated</td>\n",
              "      <td>14 inches, 1366 x 768 pixels</td>\n",
              "      <td>Windows 11 OS</td>\n",
              "      <td>1 Year Warranty</td>\n",
              "      <td>2 USB 3.0 Ports</td>\n",
              "      <td>HP 240 G8 689T7PA Business Laptop</td>\n",
              "      <td>NaN</td>\n",
              "    </tr>\n",
              "    <tr>\n",
              "      <th>624</th>\n",
              "      <td>HP 250 G8 6G9R1PA Notebook (11th Gen Core i3/ ...</td>\n",
              "      <td>35979</td>\n",
              "      <td>NaN</td>\n",
              "      <td>11th Gen Intel Core i3</td>\n",
              "      <td>8 GB DDR4 RAM</td>\n",
              "      <td>512 GB SSD</td>\n",
              "      <td>Intel Integrated Intel® UHD Graphics</td>\n",
              "      <td>15.6 inches, 1366 x 768 pixels</td>\n",
              "      <td>DOS OS</td>\n",
              "      <td>1 Year Warranty</td>\n",
              "      <td>1 USB 3.0 Ports</td>\n",
              "      <td>HP 250 G8 6G9R1PA Notebook</td>\n",
              "      <td>NaN</td>\n",
              "    </tr>\n",
              "    <tr>\n",
              "      <th>898</th>\n",
              "      <td>Lenovo IdeaPad Slim 3 81X800LGIN Laptop (11th ...</td>\n",
              "      <td>36999</td>\n",
              "      <td>NaN</td>\n",
              "      <td>11th Gen Intel Core i3</td>\n",
              "      <td>8 GB DDR4 RAM</td>\n",
              "      <td>512 GB SSD</td>\n",
              "      <td>Intel UHD Graphics</td>\n",
              "      <td>15.6 inches, 1920 x 1080 pixels</td>\n",
              "      <td>Windows 11  OS</td>\n",
              "      <td>2 Year Warranty</td>\n",
              "      <td>2 USB 3.0 Ports</td>\n",
              "      <td>Lenovo IdeaPad Slim 3 81X800LGIN Laptop</td>\n",
              "      <td>NaN</td>\n",
              "    </tr>\n",
              "  </tbody>\n",
              "</table>\n",
              "</div>\n",
              "      <button class=\"colab-df-convert\" onclick=\"convertToInteractive('df-8bd933cb-c3ed-4157-af21-90c953989a61')\"\n",
              "              title=\"Convert this dataframe to an interactive table.\"\n",
              "              style=\"display:none;\">\n",
              "        \n",
              "  <svg xmlns=\"http://www.w3.org/2000/svg\" height=\"24px\"viewBox=\"0 0 24 24\"\n",
              "       width=\"24px\">\n",
              "    <path d=\"M0 0h24v24H0V0z\" fill=\"none\"/>\n",
              "    <path d=\"M18.56 5.44l.94 2.06.94-2.06 2.06-.94-2.06-.94-.94-2.06-.94 2.06-2.06.94zm-11 1L8.5 8.5l.94-2.06 2.06-.94-2.06-.94L8.5 2.5l-.94 2.06-2.06.94zm10 10l.94 2.06.94-2.06 2.06-.94-2.06-.94-.94-2.06-.94 2.06-2.06.94z\"/><path d=\"M17.41 7.96l-1.37-1.37c-.4-.4-.92-.59-1.43-.59-.52 0-1.04.2-1.43.59L10.3 9.45l-7.72 7.72c-.78.78-.78 2.05 0 2.83L4 21.41c.39.39.9.59 1.41.59.51 0 1.02-.2 1.41-.59l7.78-7.78 2.81-2.81c.8-.78.8-2.07 0-2.86zM5.41 20L4 18.59l7.72-7.72 1.47 1.35L5.41 20z\"/>\n",
              "  </svg>\n",
              "      </button>\n",
              "      \n",
              "  <style>\n",
              "    .colab-df-container {\n",
              "      display:flex;\n",
              "      flex-wrap:wrap;\n",
              "      gap: 12px;\n",
              "    }\n",
              "\n",
              "    .colab-df-convert {\n",
              "      background-color: #E8F0FE;\n",
              "      border: none;\n",
              "      border-radius: 50%;\n",
              "      cursor: pointer;\n",
              "      display: none;\n",
              "      fill: #1967D2;\n",
              "      height: 32px;\n",
              "      padding: 0 0 0 0;\n",
              "      width: 32px;\n",
              "    }\n",
              "\n",
              "    .colab-df-convert:hover {\n",
              "      background-color: #E2EBFA;\n",
              "      box-shadow: 0px 1px 2px rgba(60, 64, 67, 0.3), 0px 1px 3px 1px rgba(60, 64, 67, 0.15);\n",
              "      fill: #174EA6;\n",
              "    }\n",
              "\n",
              "    [theme=dark] .colab-df-convert {\n",
              "      background-color: #3B4455;\n",
              "      fill: #D2E3FC;\n",
              "    }\n",
              "\n",
              "    [theme=dark] .colab-df-convert:hover {\n",
              "      background-color: #434B5C;\n",
              "      box-shadow: 0px 1px 3px 1px rgba(0, 0, 0, 0.15);\n",
              "      filter: drop-shadow(0px 1px 2px rgba(0, 0, 0, 0.3));\n",
              "      fill: #FFFFFF;\n",
              "    }\n",
              "  </style>\n",
              "\n",
              "      <script>\n",
              "        const buttonEl =\n",
              "          document.querySelector('#df-8bd933cb-c3ed-4157-af21-90c953989a61 button.colab-df-convert');\n",
              "        buttonEl.style.display =\n",
              "          google.colab.kernel.accessAllowed ? 'block' : 'none';\n",
              "\n",
              "        async function convertToInteractive(key) {\n",
              "          const element = document.querySelector('#df-8bd933cb-c3ed-4157-af21-90c953989a61');\n",
              "          const dataTable =\n",
              "            await google.colab.kernel.invokeFunction('convertToInteractive',\n",
              "                                                     [key], {});\n",
              "          if (!dataTable) return;\n",
              "\n",
              "          const docLinkHtml = 'Like what you see? Visit the ' +\n",
              "            '<a target=\"_blank\" href=https://colab.research.google.com/notebooks/data_table.ipynb>data table notebook</a>'\n",
              "            + ' to learn more about interactive tables.';\n",
              "          element.innerHTML = '';\n",
              "          dataTable['output_type'] = 'display_data';\n",
              "          await google.colab.output.renderOutput(dataTable, element);\n",
              "          const docLink = document.createElement('div');\n",
              "          docLink.innerHTML = docLinkHtml;\n",
              "          element.appendChild(docLink);\n",
              "        }\n",
              "      </script>\n",
              "    </div>\n",
              "  </div>\n",
              "  "
            ],
            "text/plain": [
              "                                                 model  price  spec_score  \\\n",
              "463  HP 240 G8 689T7PA Business Laptop (intel Core ...  34440        50.0   \n",
              "624  HP 250 G8 6G9R1PA Notebook (11th Gen Core i3/ ...  35979         NaN   \n",
              "898  Lenovo IdeaPad Slim 3 81X800LGIN Laptop (11th ...  36999         NaN   \n",
              "\n",
              "                  processor   core_threads         ram  \\\n",
              "463           Intel Core i3  8 GB DDR4 RAM  512 GB SSD   \n",
              "624  11th Gen Intel Core i3  8 GB DDR4 RAM  512 GB SSD   \n",
              "898  11th Gen Intel Core i3  8 GB DDR4 RAM  512 GB SSD   \n",
              "\n",
              "                                      ssd                         graphics  \\\n",
              "463                      Intel Integrated     14 inches, 1366 x 768 pixels   \n",
              "624  Intel Integrated Intel® UHD Graphics   15.6 inches, 1366 x 768 pixels   \n",
              "898                    Intel UHD Graphics  15.6 inches, 1920 x 1080 pixels   \n",
              "\n",
              "            display               os       extra_info  \\\n",
              "463   Windows 11 OS  1 Year Warranty  2 USB 3.0 Ports   \n",
              "624          DOS OS  1 Year Warranty  1 USB 3.0 Ports   \n",
              "898  Windows 11  OS  2 Year Warranty  2 USB 3.0 Ports   \n",
              "\n",
              "                                  model_name Hard Disk  \n",
              "463        HP 240 G8 689T7PA Business Laptop       NaN  \n",
              "624               HP 250 G8 6G9R1PA Notebook       NaN  \n",
              "898  Lenovo IdeaPad Slim 3 81X800LGIN Laptop       NaN  "
            ]
          },
          "execution_count": 62,
          "metadata": {},
          "output_type": "execute_result"
        }
      ],
      "source": [
        "df1[df1['core_threads'] == '8 GB DDR4 RAM']"
      ]
    },
    {
      "cell_type": "code",
      "execution_count": null,
      "metadata": {
        "id": "aDqOM5KMadam"
      },
      "outputs": [],
      "source": [
        "df1.loc[[463, 624, 898], ['core_threads','ram','ssd','graphics','display','os','extra_info']] = df1.loc[[463, 624, 898], ['core_threads','ram','ssd','graphics','display','os','extra_info']].shift(1, axis=1)"
      ]
    },
    {
      "cell_type": "markdown",
      "metadata": {
        "id": "Kp1e0ju9b9Yi"
      },
      "source": [
        "# editing 5"
      ]
    },
    {
      "cell_type": "code",
      "execution_count": null,
      "metadata": {
        "id": "G-u3j9Udb7Fr"
      },
      "outputs": [],
      "source": [
        "df = pd.read_csv('edit5.csv')"
      ]
    },
    {
      "cell_type": "code",
      "execution_count": null,
      "metadata": {
        "colab": {
          "base_uri": "https://localhost:8080/"
        },
        "id": "Gnkudw57_sGZ",
        "outputId": "25a957fb-7b91-43ac-e0d3-a101ddbc5039"
      },
      "outputs": [
        {
          "data": {
            "text/plain": [
              "512 GB SSD                      641\n",
              "1 TB SSD                        174\n",
              "256 GB SSD                      139\n",
              "1 TB Hard Disk                   28\n",
              "2 TB SSD                         12\n",
              "128 GB SSD                       11\n",
              "128 GB Hard Disk                  3\n",
              "32 GB Hard Disk                   2\n",
              " 512GB SSD                        1\n",
              " 256GB SSD                        1\n",
              "4 TB SSD                          1\n",
              "8 GB NVIDIA GeForce RTX 3070      1\n",
              "MediaTek Integrated               1\n",
              "64 GB Hard Disk                   1\n",
              " 1TB SSD                          1\n",
              "Intel Integrated HD 500           1\n",
              "256GB SSD                         1\n",
              "Name: ssd, dtype: int64"
            ]
          },
          "execution_count": 5,
          "metadata": {},
          "output_type": "execute_result"
        }
      ],
      "source": [
        "df['ssd'].value_counts()"
      ]
    },
    {
      "cell_type": "code",
      "execution_count": null,
      "metadata": {
        "colab": {
          "base_uri": "https://localhost:8080/",
          "height": 312
        },
        "id": "8SvRFCQjcLJp",
        "outputId": "d63066b7-b524-40f7-f580-84b6f414b66e"
      },
      "outputs": [
        {
          "data": {
            "text/html": [
              "\n",
              "  <div id=\"df-3043ce91-b3cb-4e08-9862-9779128bafda\">\n",
              "    <div class=\"colab-df-container\">\n",
              "      <div>\n",
              "<style scoped>\n",
              "    .dataframe tbody tr th:only-of-type {\n",
              "        vertical-align: middle;\n",
              "    }\n",
              "\n",
              "    .dataframe tbody tr th {\n",
              "        vertical-align: top;\n",
              "    }\n",
              "\n",
              "    .dataframe thead th {\n",
              "        text-align: right;\n",
              "    }\n",
              "</style>\n",
              "<table border=\"1\" class=\"dataframe\">\n",
              "  <thead>\n",
              "    <tr style=\"text-align: right;\">\n",
              "      <th></th>\n",
              "      <th>model</th>\n",
              "      <th>price</th>\n",
              "      <th>spec_score</th>\n",
              "      <th>processor</th>\n",
              "      <th>core_threads</th>\n",
              "      <th>ram</th>\n",
              "      <th>ssd</th>\n",
              "      <th>graphics</th>\n",
              "      <th>display</th>\n",
              "      <th>os</th>\n",
              "      <th>extra_info</th>\n",
              "      <th>model_name</th>\n",
              "      <th>Hard Disk</th>\n",
              "    </tr>\n",
              "  </thead>\n",
              "  <tbody>\n",
              "    <tr>\n",
              "      <th>0</th>\n",
              "      <td>Lenovo V15 ITL G2 82KBA033IH Laptop (11th Gen ...</td>\n",
              "      <td>33921</td>\n",
              "      <td>62.0</td>\n",
              "      <td>11th Gen Intel Core i3 1115G4</td>\n",
              "      <td>Dual Core, 4 Threads</td>\n",
              "      <td>8 GB DDR4 RAM</td>\n",
              "      <td>512 GB SSD</td>\n",
              "      <td>Intel Integrated UHD</td>\n",
              "      <td>15.6 inches, 1920 x 1080 pixels</td>\n",
              "      <td>Windows 11 OS</td>\n",
              "      <td>1 Year Warranty</td>\n",
              "      <td>Lenovo V15 ITL G2 82KBA033IH Laptop</td>\n",
              "      <td>NaN</td>\n",
              "    </tr>\n",
              "    <tr>\n",
              "      <th>1</th>\n",
              "      <td>HP Pavilion 15-ec2004AX Gaming Laptop (AMD Ryz...</td>\n",
              "      <td>56150</td>\n",
              "      <td>66.0</td>\n",
              "      <td>5th Gen AMD Ryzen 5  5600H</td>\n",
              "      <td>Hexa Core, 12 Threads</td>\n",
              "      <td>8 GB DDR4 RAM</td>\n",
              "      <td>512 GB SSD</td>\n",
              "      <td>4 GB NVIDIA GeForce GTX 1650</td>\n",
              "      <td>15.6 inches, 1920 x 1080 pixels</td>\n",
              "      <td>Windows 10 OS</td>\n",
              "      <td>1 Year Warranty</td>\n",
              "      <td>HP Pavilion 15-ec2004AX Gaming Laptop</td>\n",
              "      <td>NaN</td>\n",
              "    </tr>\n",
              "  </tbody>\n",
              "</table>\n",
              "</div>\n",
              "      <button class=\"colab-df-convert\" onclick=\"convertToInteractive('df-3043ce91-b3cb-4e08-9862-9779128bafda')\"\n",
              "              title=\"Convert this dataframe to an interactive table.\"\n",
              "              style=\"display:none;\">\n",
              "        \n",
              "  <svg xmlns=\"http://www.w3.org/2000/svg\" height=\"24px\"viewBox=\"0 0 24 24\"\n",
              "       width=\"24px\">\n",
              "    <path d=\"M0 0h24v24H0V0z\" fill=\"none\"/>\n",
              "    <path d=\"M18.56 5.44l.94 2.06.94-2.06 2.06-.94-2.06-.94-.94-2.06-.94 2.06-2.06.94zm-11 1L8.5 8.5l.94-2.06 2.06-.94-2.06-.94L8.5 2.5l-.94 2.06-2.06.94zm10 10l.94 2.06.94-2.06 2.06-.94-2.06-.94-.94-2.06-.94 2.06-2.06.94z\"/><path d=\"M17.41 7.96l-1.37-1.37c-.4-.4-.92-.59-1.43-.59-.52 0-1.04.2-1.43.59L10.3 9.45l-7.72 7.72c-.78.78-.78 2.05 0 2.83L4 21.41c.39.39.9.59 1.41.59.51 0 1.02-.2 1.41-.59l7.78-7.78 2.81-2.81c.8-.78.8-2.07 0-2.86zM5.41 20L4 18.59l7.72-7.72 1.47 1.35L5.41 20z\"/>\n",
              "  </svg>\n",
              "      </button>\n",
              "      \n",
              "  <style>\n",
              "    .colab-df-container {\n",
              "      display:flex;\n",
              "      flex-wrap:wrap;\n",
              "      gap: 12px;\n",
              "    }\n",
              "\n",
              "    .colab-df-convert {\n",
              "      background-color: #E8F0FE;\n",
              "      border: none;\n",
              "      border-radius: 50%;\n",
              "      cursor: pointer;\n",
              "      display: none;\n",
              "      fill: #1967D2;\n",
              "      height: 32px;\n",
              "      padding: 0 0 0 0;\n",
              "      width: 32px;\n",
              "    }\n",
              "\n",
              "    .colab-df-convert:hover {\n",
              "      background-color: #E2EBFA;\n",
              "      box-shadow: 0px 1px 2px rgba(60, 64, 67, 0.3), 0px 1px 3px 1px rgba(60, 64, 67, 0.15);\n",
              "      fill: #174EA6;\n",
              "    }\n",
              "\n",
              "    [theme=dark] .colab-df-convert {\n",
              "      background-color: #3B4455;\n",
              "      fill: #D2E3FC;\n",
              "    }\n",
              "\n",
              "    [theme=dark] .colab-df-convert:hover {\n",
              "      background-color: #434B5C;\n",
              "      box-shadow: 0px 1px 3px 1px rgba(0, 0, 0, 0.15);\n",
              "      filter: drop-shadow(0px 1px 2px rgba(0, 0, 0, 0.3));\n",
              "      fill: #FFFFFF;\n",
              "    }\n",
              "  </style>\n",
              "\n",
              "      <script>\n",
              "        const buttonEl =\n",
              "          document.querySelector('#df-3043ce91-b3cb-4e08-9862-9779128bafda button.colab-df-convert');\n",
              "        buttonEl.style.display =\n",
              "          google.colab.kernel.accessAllowed ? 'block' : 'none';\n",
              "\n",
              "        async function convertToInteractive(key) {\n",
              "          const element = document.querySelector('#df-3043ce91-b3cb-4e08-9862-9779128bafda');\n",
              "          const dataTable =\n",
              "            await google.colab.kernel.invokeFunction('convertToInteractive',\n",
              "                                                     [key], {});\n",
              "          if (!dataTable) return;\n",
              "\n",
              "          const docLinkHtml = 'Like what you see? Visit the ' +\n",
              "            '<a target=\"_blank\" href=https://colab.research.google.com/notebooks/data_table.ipynb>data table notebook</a>'\n",
              "            + ' to learn more about interactive tables.';\n",
              "          element.innerHTML = '';\n",
              "          dataTable['output_type'] = 'display_data';\n",
              "          await google.colab.output.renderOutput(dataTable, element);\n",
              "          const docLink = document.createElement('div');\n",
              "          docLink.innerHTML = docLinkHtml;\n",
              "          element.appendChild(docLink);\n",
              "        }\n",
              "      </script>\n",
              "    </div>\n",
              "  </div>\n",
              "  "
            ],
            "text/plain": [
              "                                               model  price  spec_score  \\\n",
              "0  Lenovo V15 ITL G2 82KBA033IH Laptop (11th Gen ...  33921        62.0   \n",
              "1  HP Pavilion 15-ec2004AX Gaming Laptop (AMD Ryz...  56150        66.0   \n",
              "\n",
              "                       processor           core_threads            ram  \\\n",
              "0  11th Gen Intel Core i3 1115G4   Dual Core, 4 Threads  8 GB DDR4 RAM   \n",
              "1     5th Gen AMD Ryzen 5  5600H  Hexa Core, 12 Threads  8 GB DDR4 RAM   \n",
              "\n",
              "          ssd                      graphics                          display  \\\n",
              "0  512 GB SSD          Intel Integrated UHD  15.6 inches, 1920 x 1080 pixels   \n",
              "1  512 GB SSD  4 GB NVIDIA GeForce GTX 1650  15.6 inches, 1920 x 1080 pixels   \n",
              "\n",
              "              os       extra_info                             model_name  \\\n",
              "0  Windows 11 OS  1 Year Warranty    Lenovo V15 ITL G2 82KBA033IH Laptop   \n",
              "1  Windows 10 OS  1 Year Warranty  HP Pavilion 15-ec2004AX Gaming Laptop   \n",
              "\n",
              "  Hard Disk  \n",
              "0       NaN  \n",
              "1       NaN  "
            ]
          },
          "execution_count": 4,
          "metadata": {},
          "output_type": "execute_result"
        }
      ],
      "source": [
        "df.head(2)"
      ]
    },
    {
      "cell_type": "code",
      "execution_count": null,
      "metadata": {
        "id": "CUM8UxQst_vf"
      },
      "outputs": [],
      "source": [
        "df1 = df.copy()"
      ]
    },
    {
      "cell_type": "markdown",
      "metadata": {
        "id": "b_jy5TGPu9Ch"
      },
      "source": [
        "# create brand column"
      ]
    },
    {
      "cell_type": "code",
      "execution_count": null,
      "metadata": {
        "id": "mFQf6E0Ut9Vx"
      },
      "outputs": [],
      "source": [
        "df1['brand'] = df1['model'].str.split().str.get(0)"
      ]
    },
    {
      "cell_type": "code",
      "execution_count": null,
      "metadata": {
        "id": "nq28K_Fkudmo"
      },
      "outputs": [],
      "source": [
        "df1['brand'].value_counts()"
      ]
    },
    {
      "cell_type": "code",
      "execution_count": null,
      "metadata": {
        "colab": {
          "base_uri": "https://localhost:8080/"
        },
        "id": "cxBh2WfvvD10",
        "outputId": "7e2fd605-9d1b-48f7-e95a-d7376f030bf6"
      },
      "outputs": [
        {
          "data": {
            "text/plain": [
              "0"
            ]
          },
          "execution_count": 9,
          "metadata": {},
          "output_type": "execute_result"
        }
      ],
      "source": [
        "df1['price'].isnull().sum()"
      ]
    },
    {
      "cell_type": "code",
      "execution_count": null,
      "metadata": {
        "colab": {
          "base_uri": "https://localhost:8080/"
        },
        "id": "6qYDJWfOvNGT",
        "outputId": "abedc896-0496-434f-c0ad-8d73ffbe62d9"
      },
      "outputs": [
        {
          "data": {
            "text/plain": [
              "16"
            ]
          },
          "execution_count": 10,
          "metadata": {},
          "output_type": "execute_result"
        }
      ],
      "source": [
        "df1['spec_score'].isnull().sum()"
      ]
    },
    {
      "cell_type": "code",
      "execution_count": null,
      "metadata": {
        "id": "4dDfBL2ZACWA"
      },
      "outputs": [],
      "source": [
        "df1['spec_score'].fillna(0, inplace=True)"
      ]
    },
    {
      "cell_type": "code",
      "execution_count": null,
      "metadata": {
        "id": "LkfQ6qhLARS3"
      },
      "outputs": [],
      "source": [
        "df1['spec_score'] = df1['spec_score'].astype('int64')"
      ]
    },
    {
      "cell_type": "code",
      "execution_count": null,
      "metadata": {
        "id": "j9x5T2YaAd63"
      },
      "outputs": [],
      "source": [
        "df1.info()"
      ]
    },
    {
      "cell_type": "markdown",
      "metadata": {
        "id": "njdG49hYvhqF"
      },
      "source": [
        "# Handling processor column"
      ]
    },
    {
      "cell_type": "code",
      "execution_count": null,
      "metadata": {
        "colab": {
          "base_uri": "https://localhost:8080/"
        },
        "id": "ENJKijcsvk6z",
        "outputId": "9040afb1-1ba1-41af-d1a2-8b93d66b3c2f"
      },
      "outputs": [
        {
          "data": {
            "text/plain": [
              "0"
            ]
          },
          "execution_count": 11,
          "metadata": {},
          "output_type": "execute_result"
        }
      ],
      "source": [
        "df1['processor'].isnull().sum()"
      ]
    },
    {
      "cell_type": "code",
      "execution_count": null,
      "metadata": {
        "id": "fmTylKApv3l5"
      },
      "outputs": [],
      "source": [
        "df1['processor_name'] = df1['model'].str.split('(').str.get(1).str.split('/').str.get(0)"
      ]
    },
    {
      "cell_type": "code",
      "execution_count": null,
      "metadata": {
        "colab": {
          "base_uri": "https://localhost:8080/"
        },
        "id": "1fXARZ1xwxlY",
        "outputId": "4d3534b7-935d-423c-8589-536f5c5ea6d5"
      },
      "outputs": [
        {
          "data": {
            "text/plain": [
              "12th Gen Core i5     154\n",
              "11th Gen Core i5     125\n",
              "12th Gen Core i7     124\n",
              "11th Gen Core i3      89\n",
              "11th Gen Core i7      43\n",
              "                    ... \n",
              "Ryzen 9-6900HX         1\n",
              "AMD Athlon 3050        1\n",
              "AMD Ryzen 7 5700U      1\n",
              "12th Gen Core i5       1\n",
              "Ryzen 7 5825U          1\n",
              "Name: processor_name, Length: 125, dtype: int64"
            ]
          },
          "execution_count": 21,
          "metadata": {},
          "output_type": "execute_result"
        }
      ],
      "source": [
        "df1['processor_name'].value_counts()"
      ]
    },
    {
      "cell_type": "markdown",
      "metadata": {
        "id": "rD-_ID4LxRBu"
      },
      "source": [
        "# Handling core threads"
      ]
    },
    {
      "cell_type": "code",
      "execution_count": null,
      "metadata": {
        "id": "HWhFK-Vkxtar"
      },
      "outputs": [],
      "source": [
        "df1.loc[1010, 'core_threads'] = np.nan"
      ]
    },
    {
      "cell_type": "code",
      "execution_count": null,
      "metadata": {
        "colab": {
          "base_uri": "https://localhost:8080/"
        },
        "id": "xuTOcxy1xVEd",
        "outputId": "d8d36953-d3eb-4f4a-ff20-9507641056bb"
      },
      "outputs": [
        {
          "data": {
            "text/plain": [
              "Quad Core, 8 Threads               177\n",
              "Octa Core, 16 Threads              147\n",
              "Dual Core, 4 Threads               129\n",
              "Hexa Core, 12 Threads              120\n",
              "10 Cores (2P + 8E), 12 Threads     103\n",
              "14 Cores (6P + 8E), 20 Threads      85\n",
              "12 Cores (4P + 8E), 16 Threads      84\n",
              "Dual Core, 2 Threads                39\n",
              "Hexa Core (2P + 4E), 8 Threads      20\n",
              "Octa Core (4P + 4E), 12 Threads     15\n",
              "10 Cores, 12 Threads                14\n",
              "Quad Core, 4 Threads                12\n",
              "10 Cores (6P + 4E), 16 Threads      10\n",
              "Octa Core                           10\n",
              "Quad Core                            9\n",
              "14 Cores, 20 Threads                 7\n",
              "Octa Core (4P + 4E)                  6\n",
              "Dual Core                            5\n",
              "16 Cores (8P + 8E), 24 Threads       5\n",
              "12 Cores (8P + 4E)                   3\n",
              "10 Cores                             2\n",
              "12 Cores                             2\n",
              "Octa Core, 12 Threads                2\n",
              "16 Cores, 24 Threads                 1\n",
              "Octa Core, 20 Threads                1\n",
              "Quad Core, 2 Threads                 1\n",
              "Hexa Core, 6 Threads                 1\n",
              "Octa Core (6P + 2E)                  1\n",
              "20 Threads                           1\n",
              "Name: core_threads, dtype: int64"
            ]
          },
          "execution_count": 23,
          "metadata": {},
          "output_type": "execute_result"
        }
      ],
      "source": [
        "df1['core_threads'].value_counts()"
      ]
    },
    {
      "cell_type": "markdown",
      "metadata": {
        "id": "NKBLm_OLzCLZ"
      },
      "source": [
        "Note: 0 in no_of_cores and no_of_threads column means the value is missing."
      ]
    },
    {
      "cell_type": "code",
      "execution_count": null,
      "metadata": {
        "id": "2ZQa3KUQyg-c"
      },
      "outputs": [],
      "source": [
        "df2 = df1.copy()"
      ]
    },
    {
      "cell_type": "code",
      "execution_count": null,
      "metadata": {
        "id": "l6h3MZilyoFK"
      },
      "outputs": [],
      "source": [
        "df2['no_of_cores'] = df2['core_threads'].str.split(',').str.get(0)\n",
        "df2['no_of_threads'] = df2['core_threads'].str.split(',').str.get(1)"
      ]
    },
    {
      "cell_type": "code",
      "execution_count": null,
      "metadata": {
        "id": "6ybpa5Lgziwf"
      },
      "outputs": [],
      "source": [
        "df2['no_of_cores'].fillna('0', inplace=True)"
      ]
    },
    {
      "cell_type": "code",
      "execution_count": null,
      "metadata": {
        "id": "3j5Yx1WOzur2"
      },
      "outputs": [],
      "source": [
        "df2['no_of_threads'].fillna('0',inplace=True)"
      ]
    },
    {
      "cell_type": "code",
      "execution_count": null,
      "metadata": {
        "id": "LWlQ8wMPzLWH"
      },
      "outputs": [],
      "source": [
        "df2.loc[df2[df2['no_of_cores'].str.contains('Threads')].index, 'no_of_threads'] = df2[df2['no_of_cores'].str.contains('Threads')]['no_of_cores'].values"
      ]
    },
    {
      "cell_type": "code",
      "execution_count": null,
      "metadata": {
        "id": "-BH0MnSe0viM"
      },
      "outputs": [],
      "source": [
        "df2.loc[df2[df2['no_of_cores'].str.contains('Threads')].index, 'no_of_cores'] = '0'"
      ]
    },
    {
      "cell_type": "code",
      "execution_count": null,
      "metadata": {
        "colab": {
          "base_uri": "https://localhost:8080/"
        },
        "id": "_q_BlmGQ2Chf",
        "outputId": "066cbcc8-4fff-472a-b1eb-b3f7dac180af"
      },
      "outputs": [
        {
          "data": {
            "text/plain": [
              "RangeIndex(start=0, stop=1020, step=1)"
            ]
          },
          "execution_count": 30,
          "metadata": {},
          "output_type": "execute_result"
        }
      ],
      "source": [
        "df2['no_of_threads'].str.strip().str.split(' ').index"
      ]
    },
    {
      "cell_type": "code",
      "execution_count": null,
      "metadata": {
        "id": "ceXsa7pk1asK"
      },
      "outputs": [],
      "source": [
        "df2['no_of_threads'] = df2['no_of_threads'].str.strip().str.split(' ').str.get(0).astype('int')"
      ]
    },
    {
      "cell_type": "code",
      "execution_count": null,
      "metadata": {
        "id": "rV7oFcgg20fj"
      },
      "outputs": [],
      "source": [
        "def numerical_core(value):\n",
        "  if 'Quad' in value:\n",
        "    return value.replace('Quad', '4')\n",
        "  elif 'Octa' in value:\n",
        "    return value.replace('Octa', '8')\n",
        "  elif 'Dual' in value:\n",
        "    return value.replace('Dual', '2')\n",
        "  elif 'Hexa' in value:\n",
        "    return value.replace('Hexa', '6')\n",
        "  else:\n",
        "    return value"
      ]
    },
    {
      "cell_type": "code",
      "execution_count": null,
      "metadata": {
        "id": "i-TK5B754vEn"
      },
      "outputs": [],
      "source": [
        "df2['no_of_cores'] = df2['no_of_cores'].apply(lambda x: numerical_core(x)).str.split(' ').str.get(0).astype('int')"
      ]
    },
    {
      "cell_type": "code",
      "execution_count": null,
      "metadata": {
        "colab": {
          "base_uri": "https://localhost:8080/"
        },
        "id": "nS4DMZ9q2Yul",
        "outputId": "61dea859-7093-464d-88ea-8f6cb4e6e177"
      },
      "outputs": [
        {
          "data": {
            "text/plain": [
              "4     199\n",
              "8     182\n",
              "2     173\n",
              "6     141\n",
              "10    129\n",
              "14     92\n",
              "12     89\n",
              "0       9\n",
              "16      6\n",
              "Name: no_of_cores, dtype: int64"
            ]
          },
          "execution_count": 34,
          "metadata": {},
          "output_type": "execute_result"
        }
      ],
      "source": [
        "df2['no_of_cores'].value_counts()"
      ]
    },
    {
      "cell_type": "code",
      "execution_count": null,
      "metadata": {
        "id": "z9ZWHhPBBJiW"
      },
      "outputs": [],
      "source": [
        "df2.drop(columns={'processor', 'core_threads'}, inplace=True)"
      ]
    },
    {
      "cell_type": "markdown",
      "metadata": {
        "id": "St3zooHQ6WeZ"
      },
      "source": [
        "# Handling Ram"
      ]
    },
    {
      "cell_type": "code",
      "execution_count": null,
      "metadata": {
        "colab": {
          "base_uri": "https://localhost:8080/",
          "height": 232
        },
        "id": "TkMeAx2d6bfK",
        "outputId": "7a96fd27-901e-4678-bd51-d635070fde46"
      },
      "outputs": [
        {
          "data": {
            "text/html": [
              "\n",
              "  <div id=\"df-9b30cb74-a7de-464d-8a9c-c2a36bbb50ea\">\n",
              "    <div class=\"colab-df-container\">\n",
              "      <div>\n",
              "<style scoped>\n",
              "    .dataframe tbody tr th:only-of-type {\n",
              "        vertical-align: middle;\n",
              "    }\n",
              "\n",
              "    .dataframe tbody tr th {\n",
              "        vertical-align: top;\n",
              "    }\n",
              "\n",
              "    .dataframe thead th {\n",
              "        text-align: right;\n",
              "    }\n",
              "</style>\n",
              "<table border=\"1\" class=\"dataframe\">\n",
              "  <thead>\n",
              "    <tr style=\"text-align: right;\">\n",
              "      <th></th>\n",
              "      <th>model</th>\n",
              "      <th>price</th>\n",
              "      <th>spec_score</th>\n",
              "      <th>processor</th>\n",
              "      <th>core_threads</th>\n",
              "      <th>ram</th>\n",
              "      <th>ssd</th>\n",
              "      <th>graphics</th>\n",
              "      <th>display</th>\n",
              "      <th>os</th>\n",
              "      <th>extra_info</th>\n",
              "      <th>model_name</th>\n",
              "      <th>Hard Disk</th>\n",
              "      <th>brand</th>\n",
              "      <th>processor_name</th>\n",
              "      <th>no_of_cores</th>\n",
              "      <th>no_of_threads</th>\n",
              "    </tr>\n",
              "  </thead>\n",
              "  <tbody>\n",
              "    <tr>\n",
              "      <th>0</th>\n",
              "      <td>Lenovo V15 ITL G2 82KBA033IH Laptop (11th Gen ...</td>\n",
              "      <td>33921</td>\n",
              "      <td>62.0</td>\n",
              "      <td>11th Gen Intel Core i3 1115G4</td>\n",
              "      <td>Dual Core, 4 Threads</td>\n",
              "      <td>8 GB DDR4 RAM</td>\n",
              "      <td>512 GB SSD</td>\n",
              "      <td>Intel Integrated UHD</td>\n",
              "      <td>15.6 inches, 1920 x 1080 pixels</td>\n",
              "      <td>Windows 11 OS</td>\n",
              "      <td>1 Year Warranty</td>\n",
              "      <td>Lenovo V15 ITL G2 82KBA033IH Laptop</td>\n",
              "      <td>NaN</td>\n",
              "      <td>Lenovo</td>\n",
              "      <td>11th Gen Core i3</td>\n",
              "      <td>2</td>\n",
              "      <td>4</td>\n",
              "    </tr>\n",
              "  </tbody>\n",
              "</table>\n",
              "</div>\n",
              "      <button class=\"colab-df-convert\" onclick=\"convertToInteractive('df-9b30cb74-a7de-464d-8a9c-c2a36bbb50ea')\"\n",
              "              title=\"Convert this dataframe to an interactive table.\"\n",
              "              style=\"display:none;\">\n",
              "        \n",
              "  <svg xmlns=\"http://www.w3.org/2000/svg\" height=\"24px\"viewBox=\"0 0 24 24\"\n",
              "       width=\"24px\">\n",
              "    <path d=\"M0 0h24v24H0V0z\" fill=\"none\"/>\n",
              "    <path d=\"M18.56 5.44l.94 2.06.94-2.06 2.06-.94-2.06-.94-.94-2.06-.94 2.06-2.06.94zm-11 1L8.5 8.5l.94-2.06 2.06-.94-2.06-.94L8.5 2.5l-.94 2.06-2.06.94zm10 10l.94 2.06.94-2.06 2.06-.94-2.06-.94-.94-2.06-.94 2.06-2.06.94z\"/><path d=\"M17.41 7.96l-1.37-1.37c-.4-.4-.92-.59-1.43-.59-.52 0-1.04.2-1.43.59L10.3 9.45l-7.72 7.72c-.78.78-.78 2.05 0 2.83L4 21.41c.39.39.9.59 1.41.59.51 0 1.02-.2 1.41-.59l7.78-7.78 2.81-2.81c.8-.78.8-2.07 0-2.86zM5.41 20L4 18.59l7.72-7.72 1.47 1.35L5.41 20z\"/>\n",
              "  </svg>\n",
              "      </button>\n",
              "      \n",
              "  <style>\n",
              "    .colab-df-container {\n",
              "      display:flex;\n",
              "      flex-wrap:wrap;\n",
              "      gap: 12px;\n",
              "    }\n",
              "\n",
              "    .colab-df-convert {\n",
              "      background-color: #E8F0FE;\n",
              "      border: none;\n",
              "      border-radius: 50%;\n",
              "      cursor: pointer;\n",
              "      display: none;\n",
              "      fill: #1967D2;\n",
              "      height: 32px;\n",
              "      padding: 0 0 0 0;\n",
              "      width: 32px;\n",
              "    }\n",
              "\n",
              "    .colab-df-convert:hover {\n",
              "      background-color: #E2EBFA;\n",
              "      box-shadow: 0px 1px 2px rgba(60, 64, 67, 0.3), 0px 1px 3px 1px rgba(60, 64, 67, 0.15);\n",
              "      fill: #174EA6;\n",
              "    }\n",
              "\n",
              "    [theme=dark] .colab-df-convert {\n",
              "      background-color: #3B4455;\n",
              "      fill: #D2E3FC;\n",
              "    }\n",
              "\n",
              "    [theme=dark] .colab-df-convert:hover {\n",
              "      background-color: #434B5C;\n",
              "      box-shadow: 0px 1px 3px 1px rgba(0, 0, 0, 0.15);\n",
              "      filter: drop-shadow(0px 1px 2px rgba(0, 0, 0, 0.3));\n",
              "      fill: #FFFFFF;\n",
              "    }\n",
              "  </style>\n",
              "\n",
              "      <script>\n",
              "        const buttonEl =\n",
              "          document.querySelector('#df-9b30cb74-a7de-464d-8a9c-c2a36bbb50ea button.colab-df-convert');\n",
              "        buttonEl.style.display =\n",
              "          google.colab.kernel.accessAllowed ? 'block' : 'none';\n",
              "\n",
              "        async function convertToInteractive(key) {\n",
              "          const element = document.querySelector('#df-9b30cb74-a7de-464d-8a9c-c2a36bbb50ea');\n",
              "          const dataTable =\n",
              "            await google.colab.kernel.invokeFunction('convertToInteractive',\n",
              "                                                     [key], {});\n",
              "          if (!dataTable) return;\n",
              "\n",
              "          const docLinkHtml = 'Like what you see? Visit the ' +\n",
              "            '<a target=\"_blank\" href=https://colab.research.google.com/notebooks/data_table.ipynb>data table notebook</a>'\n",
              "            + ' to learn more about interactive tables.';\n",
              "          element.innerHTML = '';\n",
              "          dataTable['output_type'] = 'display_data';\n",
              "          await google.colab.output.renderOutput(dataTable, element);\n",
              "          const docLink = document.createElement('div');\n",
              "          docLink.innerHTML = docLinkHtml;\n",
              "          element.appendChild(docLink);\n",
              "        }\n",
              "      </script>\n",
              "    </div>\n",
              "  </div>\n",
              "  "
            ],
            "text/plain": [
              "                                               model  price  spec_score  \\\n",
              "0  Lenovo V15 ITL G2 82KBA033IH Laptop (11th Gen ...  33921        62.0   \n",
              "\n",
              "                       processor          core_threads            ram  \\\n",
              "0  11th Gen Intel Core i3 1115G4  Dual Core, 4 Threads  8 GB DDR4 RAM   \n",
              "\n",
              "          ssd              graphics                          display  \\\n",
              "0  512 GB SSD  Intel Integrated UHD  15.6 inches, 1920 x 1080 pixels   \n",
              "\n",
              "              os       extra_info                           model_name  \\\n",
              "0  Windows 11 OS  1 Year Warranty  Lenovo V15 ITL G2 82KBA033IH Laptop   \n",
              "\n",
              "  Hard Disk   brand    processor_name  no_of_cores  no_of_threads  \n",
              "0       NaN  Lenovo  11th Gen Core i3            2              4  "
            ]
          },
          "execution_count": 102,
          "metadata": {},
          "output_type": "execute_result"
        }
      ],
      "source": [
        "df2.head(1)"
      ]
    },
    {
      "cell_type": "code",
      "execution_count": null,
      "metadata": {
        "id": "Krrx1-vs6eyS"
      },
      "outputs": [],
      "source": [
        "df2['ram(GB)'] = df2['ram'].str.strip().str.split('\\u2009').str.get(0).str.replace('GB','').astype('int')"
      ]
    },
    {
      "cell_type": "code",
      "execution_count": null,
      "metadata": {
        "id": "O7JwkdGoB2ji"
      },
      "outputs": [],
      "source": [
        "df2.drop(columns={'ram'}, inplace=True)"
      ]
    },
    {
      "cell_type": "markdown",
      "metadata": {
        "id": "v0WcMdNU7xxM"
      },
      "source": [
        "# Handling SSD"
      ]
    },
    {
      "cell_type": "code",
      "execution_count": null,
      "metadata": {
        "id": "UO3L1WLCCAsi"
      },
      "outputs": [],
      "source": [
        "df2['ssd'].value_counts()"
      ]
    },
    {
      "cell_type": "code",
      "execution_count": null,
      "metadata": {
        "id": "Ff6QHENUCXFR"
      },
      "outputs": [],
      "source": [
        "df2['ssd'] = df2['ssd'].str.strip()"
      ]
    },
    {
      "cell_type": "code",
      "execution_count": null,
      "metadata": {
        "colab": {
          "base_uri": "https://localhost:8080/"
        },
        "id": "Ty1bAHO2DMhm",
        "outputId": "5b7cb919-28e8-46b3-b85a-8b73ca5dbbaf"
      },
      "outputs": [
        {
          "data": {
            "text/plain": [
              "array(['512\\u2009GB SSD', '512\\u2009GB SSD', '256\\u2009GB SSD', ...,\n",
              "       '1\\u2009TB SSD', '128\\u2009GB SSD', '1\\u2009TB SSD'], dtype=object)"
            ]
          },
          "execution_count": 50,
          "metadata": {},
          "output_type": "execute_result"
        }
      ],
      "source": [
        "df2['ssd'].values"
      ]
    },
    {
      "cell_type": "code",
      "execution_count": null,
      "metadata": {
        "id": "61wLM0T379EM"
      },
      "outputs": [],
      "source": [
        "df2['ssd'].fillna('0', inplace=True)"
      ]
    },
    {
      "cell_type": "code",
      "execution_count": null,
      "metadata": {
        "id": "ynqzHJUUHH2v"
      },
      "outputs": [],
      "source": [
        "df2.loc[664, ['ssd','graphics','display','os','extra_info']] = df2.loc[664, ['ssd','graphics','display','os','extra_info']].shift(1)\n",
        "# temp_df['Hard Disk'] = temp_df['ssd']\n",
        "# shift_df =  temp_df[['ssd','graphics','display','os','extra_info']].shift(-1,axis=1)\n",
        "# temp_df.loc[shift_df.index, ['ssd','graphics','display','os','extra_info']] = shift_df[['ssd','graphics','display','os','extra_info']].values"
      ]
    },
    {
      "cell_type": "code",
      "execution_count": null,
      "metadata": {
        "id": "QCcROF4-FfgD"
      },
      "outputs": [],
      "source": [
        "df2.loc[664, 'ssd'] = '512'"
      ]
    },
    {
      "cell_type": "markdown",
      "metadata": {
        "id": "Uu3cB_DA9ExL"
      },
      "source": [
        "Note: 0 Hard Disk means -> no hard disk is present <br>\n",
        "Note: 0 ssd means -> ssd is not present"
      ]
    },
    {
      "cell_type": "code",
      "execution_count": null,
      "metadata": {
        "id": "6Et3IAD1Ir3C"
      },
      "outputs": [],
      "source": [
        "df2.drop([101, 170], inplace=True)"
      ]
    },
    {
      "cell_type": "markdown",
      "metadata": {
        "id": "9ZXuWVLdJerg"
      },
      "source": [
        "#### handling ssd (replacing harddisk and converting TB to GB)"
      ]
    },
    {
      "cell_type": "code",
      "execution_count": null,
      "metadata": {
        "colab": {
          "base_uri": "https://localhost:8080/"
        },
        "id": "0YJ_UQViJdgY",
        "outputId": "25fe5f8d-5cb7-4616-b7f6-dcc44a3512e0"
      },
      "outputs": [
        {
          "data": {
            "text/plain": [
              "512 GB SSD    641\n",
              "1 TB SSD      174\n",
              "256 GB SSD    139\n",
              "0              35\n",
              "2 TB SSD       12\n",
              "128 GB SSD     11\n",
              "256GB SSD       2\n",
              "1TB SSD         1\n",
              "512GB SSD       1\n",
              "512             1\n",
              "4 TB SSD        1\n",
              "Name: ssd, dtype: int64"
            ]
          },
          "execution_count": 108,
          "metadata": {},
          "output_type": "execute_result"
        }
      ],
      "source": [
        "df2['ssd'].value_counts()"
      ]
    },
    {
      "cell_type": "code",
      "execution_count": null,
      "metadata": {
        "id": "8UwamcSXJdjS"
      },
      "outputs": [],
      "source": [
        "df2[df2[df2['ssd'].str.contains('Hard')].index, 'Hard Disk'] = df2[df2['ssd'].str.contains('Hard')]['ssd'].values"
      ]
    },
    {
      "cell_type": "code",
      "execution_count": null,
      "metadata": {
        "id": "dlYVWB1tMXZ2"
      },
      "outputs": [],
      "source": [
        "df2.loc[df2[df2['ssd'].str.contains('Hard')].index, 'ssd'] = '0'"
      ]
    },
    {
      "cell_type": "code",
      "execution_count": null,
      "metadata": {
        "colab": {
          "base_uri": "https://localhost:8080/",
          "height": 35
        },
        "id": "SaU4dbtuOYnS",
        "outputId": "33219f5e-ef88-41ff-cb50-c9f25dba9c98"
      },
      "outputs": [
        {
          "data": {
            "application/vnd.google.colaboratory.intrinsic+json": {
              "type": "string"
            },
            "text/plain": [
              "'hsdhs'"
            ]
          },
          "execution_count": 111,
          "metadata": {},
          "output_type": "execute_result"
        }
      ],
      "source": [
        "a = \"hsdhs  sdhjs\"\n",
        "a.split(\" \")[0]"
      ]
    },
    {
      "cell_type": "code",
      "execution_count": null,
      "metadata": {
        "id": "6L_n9Pj_JdmG"
      },
      "outputs": [],
      "source": [
        "def ssd_handle(value):\n",
        "  if '\\u2009GB' in value:\n",
        "    value = value.replace('\\u2009GB', ' ')\n",
        "    value = int(value.split(\" \")[0])\n",
        "    return value\n",
        "  elif 'GB' in value:\n",
        "    value = value.replace(\"GB\", \" \")\n",
        "    value = int(value.split(\" \")[0])\n",
        "    return value\n",
        "  elif '\\u2009TB' in value:\n",
        "    value = value.replace('\\u2009TB', ' ')\n",
        "    value = int(value.split(\" \")[0])\n",
        "    return value*1000\n",
        "  elif 'TB' in value:\n",
        "    value = value.replace(\"TB\", \" \")\n",
        "    value = int(value.split(\" \")[0])\n",
        "    return value*1000\n",
        "  else:\n",
        "    return int(value)"
      ]
    },
    {
      "cell_type": "code",
      "execution_count": null,
      "metadata": {
        "id": "IRl0BfFsJdqC"
      },
      "outputs": [],
      "source": [
        "df2['ssd(GB)'] = df2['ssd'].apply(lambda x: ssd_handle(x))"
      ]
    },
    {
      "cell_type": "code",
      "execution_count": null,
      "metadata": {
        "id": "QGdFOJq8ROKA"
      },
      "outputs": [],
      "source": [
        "df2.drop(columns={'ssd'}, inplace=True)"
      ]
    },
    {
      "cell_type": "markdown",
      "metadata": {
        "id": "CGV-avsARexo"
      },
      "source": [
        "# Handle HDD"
      ]
    },
    {
      "cell_type": "code",
      "execution_count": null,
      "metadata": {
        "id": "-MVxuyvwRxsu"
      },
      "outputs": [],
      "source": [
        "df2['Hard Disk'].fillna('0', inplace=True)"
      ]
    },
    {
      "cell_type": "code",
      "execution_count": null,
      "metadata": {
        "id": "u3WF4Y-cSA9W"
      },
      "outputs": [],
      "source": [
        "def handle_harddisk(value):\n",
        "  if '\\u2009GB' in value:\n",
        "    value = value.replace(\"\\u2009GB\", \" \")\n",
        "    value = int(value.split(\" \")[0])\n",
        "    return value\n",
        "  elif '\\u2009TB' in value:\n",
        "    value = value.replace(\"\\u2009TB\", \" \")\n",
        "    value = int(value.split(\" \")[0])\n",
        "    return value*1000\n",
        "  else:\n",
        "    return 0"
      ]
    },
    {
      "cell_type": "code",
      "execution_count": null,
      "metadata": {
        "id": "H1E90wDeVRh0"
      },
      "outputs": [],
      "source": [
        "df2['Hard Disk(GB)'] = df2['Hard Disk'].apply(lambda x: handle_harddisk(x))"
      ]
    },
    {
      "cell_type": "code",
      "execution_count": null,
      "metadata": {
        "id": "92cjRYrMVmGC"
      },
      "outputs": [],
      "source": [
        "df2.drop(columns={'Hard Disk'}, inplace=True)"
      ]
    },
    {
      "cell_type": "code",
      "execution_count": null,
      "metadata": {
        "colab": {
          "base_uri": "https://localhost:8080/",
          "height": 232
        },
        "id": "Wef34bA6VwuC",
        "outputId": "941dfe03-7c31-415e-bf30-2cddc9da6962"
      },
      "outputs": [
        {
          "data": {
            "text/html": [
              "\n",
              "  <div id=\"df-755c11c6-704c-40d3-9f16-ceac71b48202\">\n",
              "    <div class=\"colab-df-container\">\n",
              "      <div>\n",
              "<style scoped>\n",
              "    .dataframe tbody tr th:only-of-type {\n",
              "        vertical-align: middle;\n",
              "    }\n",
              "\n",
              "    .dataframe tbody tr th {\n",
              "        vertical-align: top;\n",
              "    }\n",
              "\n",
              "    .dataframe thead th {\n",
              "        text-align: right;\n",
              "    }\n",
              "</style>\n",
              "<table border=\"1\" class=\"dataframe\">\n",
              "  <thead>\n",
              "    <tr style=\"text-align: right;\">\n",
              "      <th></th>\n",
              "      <th>model</th>\n",
              "      <th>price</th>\n",
              "      <th>spec_score</th>\n",
              "      <th>graphics</th>\n",
              "      <th>display</th>\n",
              "      <th>os</th>\n",
              "      <th>extra_info</th>\n",
              "      <th>model_name</th>\n",
              "      <th>brand</th>\n",
              "      <th>processor_name</th>\n",
              "      <th>no_of_cores</th>\n",
              "      <th>no_of_threads</th>\n",
              "      <th>ram(GB)</th>\n",
              "      <th>ssd(GB)</th>\n",
              "      <th>Hard Disk(GB)</th>\n",
              "    </tr>\n",
              "  </thead>\n",
              "  <tbody>\n",
              "    <tr>\n",
              "      <th>0</th>\n",
              "      <td>Lenovo V15 ITL G2 82KBA033IH Laptop (11th Gen ...</td>\n",
              "      <td>33921</td>\n",
              "      <td>62</td>\n",
              "      <td>Intel Integrated UHD</td>\n",
              "      <td>15.6 inches, 1920 x 1080 pixels</td>\n",
              "      <td>Windows 11 OS</td>\n",
              "      <td>1 Year Warranty</td>\n",
              "      <td>Lenovo V15 ITL G2 82KBA033IH Laptop</td>\n",
              "      <td>Lenovo</td>\n",
              "      <td>11th Gen Core i3</td>\n",
              "      <td>2</td>\n",
              "      <td>4</td>\n",
              "      <td>8</td>\n",
              "      <td>512</td>\n",
              "      <td>0</td>\n",
              "    </tr>\n",
              "  </tbody>\n",
              "</table>\n",
              "</div>\n",
              "      <button class=\"colab-df-convert\" onclick=\"convertToInteractive('df-755c11c6-704c-40d3-9f16-ceac71b48202')\"\n",
              "              title=\"Convert this dataframe to an interactive table.\"\n",
              "              style=\"display:none;\">\n",
              "        \n",
              "  <svg xmlns=\"http://www.w3.org/2000/svg\" height=\"24px\"viewBox=\"0 0 24 24\"\n",
              "       width=\"24px\">\n",
              "    <path d=\"M0 0h24v24H0V0z\" fill=\"none\"/>\n",
              "    <path d=\"M18.56 5.44l.94 2.06.94-2.06 2.06-.94-2.06-.94-.94-2.06-.94 2.06-2.06.94zm-11 1L8.5 8.5l.94-2.06 2.06-.94-2.06-.94L8.5 2.5l-.94 2.06-2.06.94zm10 10l.94 2.06.94-2.06 2.06-.94-2.06-.94-.94-2.06-.94 2.06-2.06.94z\"/><path d=\"M17.41 7.96l-1.37-1.37c-.4-.4-.92-.59-1.43-.59-.52 0-1.04.2-1.43.59L10.3 9.45l-7.72 7.72c-.78.78-.78 2.05 0 2.83L4 21.41c.39.39.9.59 1.41.59.51 0 1.02-.2 1.41-.59l7.78-7.78 2.81-2.81c.8-.78.8-2.07 0-2.86zM5.41 20L4 18.59l7.72-7.72 1.47 1.35L5.41 20z\"/>\n",
              "  </svg>\n",
              "      </button>\n",
              "      \n",
              "  <style>\n",
              "    .colab-df-container {\n",
              "      display:flex;\n",
              "      flex-wrap:wrap;\n",
              "      gap: 12px;\n",
              "    }\n",
              "\n",
              "    .colab-df-convert {\n",
              "      background-color: #E8F0FE;\n",
              "      border: none;\n",
              "      border-radius: 50%;\n",
              "      cursor: pointer;\n",
              "      display: none;\n",
              "      fill: #1967D2;\n",
              "      height: 32px;\n",
              "      padding: 0 0 0 0;\n",
              "      width: 32px;\n",
              "    }\n",
              "\n",
              "    .colab-df-convert:hover {\n",
              "      background-color: #E2EBFA;\n",
              "      box-shadow: 0px 1px 2px rgba(60, 64, 67, 0.3), 0px 1px 3px 1px rgba(60, 64, 67, 0.15);\n",
              "      fill: #174EA6;\n",
              "    }\n",
              "\n",
              "    [theme=dark] .colab-df-convert {\n",
              "      background-color: #3B4455;\n",
              "      fill: #D2E3FC;\n",
              "    }\n",
              "\n",
              "    [theme=dark] .colab-df-convert:hover {\n",
              "      background-color: #434B5C;\n",
              "      box-shadow: 0px 1px 3px 1px rgba(0, 0, 0, 0.15);\n",
              "      filter: drop-shadow(0px 1px 2px rgba(0, 0, 0, 0.3));\n",
              "      fill: #FFFFFF;\n",
              "    }\n",
              "  </style>\n",
              "\n",
              "      <script>\n",
              "        const buttonEl =\n",
              "          document.querySelector('#df-755c11c6-704c-40d3-9f16-ceac71b48202 button.colab-df-convert');\n",
              "        buttonEl.style.display =\n",
              "          google.colab.kernel.accessAllowed ? 'block' : 'none';\n",
              "\n",
              "        async function convertToInteractive(key) {\n",
              "          const element = document.querySelector('#df-755c11c6-704c-40d3-9f16-ceac71b48202');\n",
              "          const dataTable =\n",
              "            await google.colab.kernel.invokeFunction('convertToInteractive',\n",
              "                                                     [key], {});\n",
              "          if (!dataTable) return;\n",
              "\n",
              "          const docLinkHtml = 'Like what you see? Visit the ' +\n",
              "            '<a target=\"_blank\" href=https://colab.research.google.com/notebooks/data_table.ipynb>data table notebook</a>'\n",
              "            + ' to learn more about interactive tables.';\n",
              "          element.innerHTML = '';\n",
              "          dataTable['output_type'] = 'display_data';\n",
              "          await google.colab.output.renderOutput(dataTable, element);\n",
              "          const docLink = document.createElement('div');\n",
              "          docLink.innerHTML = docLinkHtml;\n",
              "          element.appendChild(docLink);\n",
              "        }\n",
              "      </script>\n",
              "    </div>\n",
              "  </div>\n",
              "  "
            ],
            "text/plain": [
              "                                               model  price  spec_score  \\\n",
              "0  Lenovo V15 ITL G2 82KBA033IH Laptop (11th Gen ...  33921          62   \n",
              "\n",
              "               graphics                          display             os  \\\n",
              "0  Intel Integrated UHD  15.6 inches, 1920 x 1080 pixels  Windows 11 OS   \n",
              "\n",
              "        extra_info                           model_name   brand  \\\n",
              "0  1 Year Warranty  Lenovo V15 ITL G2 82KBA033IH Laptop  Lenovo   \n",
              "\n",
              "     processor_name  no_of_cores  no_of_threads  ram(GB)  ssd(GB)  \\\n",
              "0  11th Gen Core i3            2              4        8      512   \n",
              "\n",
              "   Hard Disk(GB)  \n",
              "0              0  "
            ]
          },
          "execution_count": 139,
          "metadata": {},
          "output_type": "execute_result"
        }
      ],
      "source": [
        "df2.head(1)"
      ]
    },
    {
      "cell_type": "markdown",
      "metadata": {
        "id": "TngINdo9WRnv"
      },
      "source": [
        "# Handle OS"
      ]
    },
    {
      "cell_type": "code",
      "execution_count": null,
      "metadata": {
        "colab": {
          "base_uri": "https://localhost:8080/"
        },
        "id": "Uhq33I9vWWlQ",
        "outputId": "d902ef68-4976-4c28-979b-03cf3b96b1fd"
      },
      "outputs": [
        {
          "data": {
            "text/plain": [
              "Windows 11 OS       802\n",
              "Windows 10 OS        71\n",
              "Windows 11  OS       59\n",
              "DOS OS               27\n",
              "Mac OS               21\n",
              "Windows 10  OS       16\n",
              "Windows OS            7\n",
              "Ubuntu OS             5\n",
              "Chrome OS             4\n",
              "Windows 10 10 OS      1\n",
              " Win11 Home           1\n",
              "Win10                 1\n",
              "Windows 1 OS          1\n",
              " Win11 Home)          1\n",
              "Win11 Home            1\n",
              "Name: os, dtype: int64"
            ]
          },
          "execution_count": 155,
          "metadata": {},
          "output_type": "execute_result"
        }
      ],
      "source": [
        "df2['os'].value_counts()"
      ]
    },
    {
      "cell_type": "code",
      "execution_count": null,
      "metadata": {
        "id": "WygpVkjFYdFE"
      },
      "outputs": [],
      "source": [
        "shift_df =  df2[df2['os'] == '1 Year Warranty'][['graphics','display','os','extra_info']].shift(1,axis=1)\n",
        "df2.loc[shift_df.index, ['graphics','display','os','extra_info']] = shift_df[['graphics','display','os','extra_info']].values"
      ]
    },
    {
      "cell_type": "code",
      "execution_count": null,
      "metadata": {
        "id": "pv_3-JMrXCBG"
      },
      "outputs": [],
      "source": [
        "def handle_os(value):\n",
        "  if 'Win' in value:\n",
        "    return 'Windows'\n",
        "  elif 'DOS' in value:\n",
        "    return 'DOS'\n",
        "  elif 'Mac' in value:\n",
        "    return 'Mac'\n",
        "  elif 'Ubuntu' in value:\n",
        "    return 'Ubuntu'\n",
        "  elif 'Chrome' in value:\n",
        "    return 'Chrome'\n",
        "  else:\n",
        "    return ' '"
      ]
    },
    {
      "cell_type": "code",
      "execution_count": null,
      "metadata": {
        "id": "a3NmOfGcWuIA"
      },
      "outputs": [],
      "source": [
        "df2['Operating System'] = df2['os'].apply(lambda x: handle_os(x))"
      ]
    },
    {
      "cell_type": "code",
      "execution_count": null,
      "metadata": {
        "colab": {
          "base_uri": "https://localhost:8080/"
        },
        "id": "Tm6fO-dKZz06",
        "outputId": "bebbeca7-685f-4c95-f72f-1f8ea794105e"
      },
      "outputs": [
        {
          "data": {
            "text/plain": [
              "Windows    961\n",
              "DOS         27\n",
              "Mac         21\n",
              "Ubuntu       5\n",
              "Chrome       4\n",
              "Name: Operating System, dtype: int64"
            ]
          },
          "execution_count": 159,
          "metadata": {},
          "output_type": "execute_result"
        }
      ],
      "source": [
        "df2['Operating System'].value_counts()"
      ]
    },
    {
      "cell_type": "code",
      "execution_count": null,
      "metadata": {
        "id": "8WZriLHFaHeG"
      },
      "outputs": [],
      "source": [
        "df2.to_csv('edit7.csv', index=False)"
      ]
    },
    {
      "cell_type": "markdown",
      "metadata": {
        "id": "Tk0dQqUTaENl"
      },
      "source": [
        "# Handle Display"
      ]
    },
    {
      "cell_type": "code",
      "execution_count": null,
      "metadata": {
        "colab": {
          "base_uri": "https://localhost:8080/"
        },
        "id": "WC5fXe_fnPzi",
        "outputId": "9979ec17-88b4-4ea3-e9b5-a2a34c9d6b52"
      },
      "outputs": [
        {
          "data": {
            "text/plain": [
              "2"
            ]
          },
          "execution_count": 165,
          "metadata": {},
          "output_type": "execute_result"
        }
      ],
      "source": [
        "df2['display'].isnull().sum()"
      ]
    },
    {
      "cell_type": "code",
      "execution_count": null,
      "metadata": {
        "id": "ZupHwv5zomot"
      },
      "outputs": [],
      "source": [
        "df2['display'].fillna('Missing', inplace=True)"
      ]
    },
    {
      "cell_type": "code",
      "execution_count": null,
      "metadata": {
        "id": "3O-s8nA-rwM_"
      },
      "outputs": [],
      "source": [
        "def handle_screensize(value):\n",
        "  try:\n",
        "    value = float(value.split(\",\")[0].split(\"\\u2009\")[0].strip())\n",
        "    return value\n",
        "  except:\n",
        "    return np.nan"
      ]
    },
    {
      "cell_type": "code",
      "execution_count": null,
      "metadata": {
        "id": "yXh9VY1IvyD3"
      },
      "outputs": [],
      "source": [
        "def resolution(value):\n",
        "  try:\n",
        "    value = value.split(\",\")[1].replace(\"pixels\", \"\").strip().replace(\"\\u2009\",\" \")\n",
        "    return value\n",
        "  except:\n",
        "    return np.nan\n"
      ]
    },
    {
      "cell_type": "code",
      "execution_count": null,
      "metadata": {
        "id": "G2LWUSTKsRK2"
      },
      "outputs": [],
      "source": [
        "df2['screen_size(inches)'] = df2['display'].apply(lambda x: handle_screensize(x))"
      ]
    },
    {
      "cell_type": "code",
      "execution_count": null,
      "metadata": {
        "id": "3mDKR7IUtJ-y"
      },
      "outputs": [],
      "source": [
        "df2.loc[[626, 1010], 'screen_size(inches)'] = [13.3, 14.0]"
      ]
    },
    {
      "cell_type": "code",
      "execution_count": null,
      "metadata": {
        "id": "6eamDrCFybN5"
      },
      "outputs": [],
      "source": [
        "df2['resolution (pixels)'] = df2['display'].apply(lambda x: resolution(x))"
      ]
    },
    {
      "cell_type": "code",
      "execution_count": null,
      "metadata": {
        "id": "6XGvTQelxd4c"
      },
      "outputs": [],
      "source": [
        "df2.loc[1010, 'resolution (pixels)'] = '1366 x 768'"
      ]
    },
    {
      "cell_type": "markdown",
      "metadata": {
        "id": "1qmOeivX2GZU"
      },
      "source": [
        "# Handle Graphics"
      ]
    },
    {
      "cell_type": "code",
      "execution_count": null,
      "metadata": {
        "id": "95X33hQWz7ah"
      },
      "outputs": [],
      "source": [
        "df2['graphics'].fillna(\"Missing\", inplace=True)"
      ]
    },
    {
      "cell_type": "code",
      "execution_count": null,
      "metadata": {
        "id": "T0CTSNmA7Lgb"
      },
      "outputs": [],
      "source": [
        "df2['graphics'] = df2['graphics'].str.strip()"
      ]
    },
    {
      "cell_type": "code",
      "execution_count": null,
      "metadata": {
        "id": "I53Tqtou7YfR"
      },
      "outputs": [],
      "source": [
        "df2.drop(columns = {'model', 'display', 'os','extra_info'}, inplace=True)"
      ]
    },
    {
      "cell_type": "markdown",
      "metadata": {
        "id": "nJmFLCD_4UjT"
      },
      "source": []
    },
    {
      "cell_type": "code",
      "execution_count": null,
      "metadata": {
        "id": "aIuuZJTc5bMw"
      },
      "outputs": [],
      "source": [
        "new_order = ['model_name','brand','processor_name','ram(GB)','ssd(GB)','Hard Disk(GB)','Operating System','graphics',\n",
        "             'screen_size(inches)','resolution (pixels)','no_of_cores','no_of_threads','spec_score','price']"
      ]
    },
    {
      "cell_type": "code",
      "execution_count": null,
      "metadata": {
        "id": "ig24GCdw70tn"
      },
      "outputs": [],
      "source": [
        "final_df = df2.reindex(columns=new_order)"
      ]
    },
    {
      "cell_type": "code",
      "execution_count": null,
      "metadata": {
        "colab": {
          "base_uri": "https://localhost:8080/",
          "height": 565
        },
        "id": "Yms1zdCq77AH",
        "outputId": "c0a10512-d89e-4e35-ef09-df9b3359d476"
      },
      "outputs": [
        {
          "data": {
            "text/html": [
              "\n",
              "  <div id=\"df-8275ff02-9363-46f0-8c2a-fe96858862a8\">\n",
              "    <div class=\"colab-df-container\">\n",
              "      <div>\n",
              "<style scoped>\n",
              "    .dataframe tbody tr th:only-of-type {\n",
              "        vertical-align: middle;\n",
              "    }\n",
              "\n",
              "    .dataframe tbody tr th {\n",
              "        vertical-align: top;\n",
              "    }\n",
              "\n",
              "    .dataframe thead th {\n",
              "        text-align: right;\n",
              "    }\n",
              "</style>\n",
              "<table border=\"1\" class=\"dataframe\">\n",
              "  <thead>\n",
              "    <tr style=\"text-align: right;\">\n",
              "      <th></th>\n",
              "      <th>model_name</th>\n",
              "      <th>brand</th>\n",
              "      <th>processor_name</th>\n",
              "      <th>ram(GB)</th>\n",
              "      <th>ssd(GB)</th>\n",
              "      <th>Hard Disk(GB)</th>\n",
              "      <th>Operating System</th>\n",
              "      <th>graphics</th>\n",
              "      <th>screen_size(inches)</th>\n",
              "      <th>resolution (pixels)</th>\n",
              "      <th>no_of_cores</th>\n",
              "      <th>no_of_threads</th>\n",
              "      <th>spec_score</th>\n",
              "      <th>price</th>\n",
              "    </tr>\n",
              "  </thead>\n",
              "  <tbody>\n",
              "    <tr>\n",
              "      <th>0</th>\n",
              "      <td>Lenovo V15 ITL G2 82KBA033IH Laptop</td>\n",
              "      <td>Lenovo</td>\n",
              "      <td>11th Gen Core i3</td>\n",
              "      <td>8</td>\n",
              "      <td>512</td>\n",
              "      <td>0</td>\n",
              "      <td>Windows</td>\n",
              "      <td>Intel Integrated UHD</td>\n",
              "      <td>15.6</td>\n",
              "      <td>1920 x 1080</td>\n",
              "      <td>2</td>\n",
              "      <td>4</td>\n",
              "      <td>62</td>\n",
              "      <td>33921</td>\n",
              "    </tr>\n",
              "    <tr>\n",
              "      <th>1</th>\n",
              "      <td>HP Pavilion 15-ec2004AX Gaming Laptop</td>\n",
              "      <td>HP</td>\n",
              "      <td>AMD Ryzen 5 5600H</td>\n",
              "      <td>8</td>\n",
              "      <td>512</td>\n",
              "      <td>0</td>\n",
              "      <td>Windows</td>\n",
              "      <td>4 GB NVIDIA GeForce GTX 1650</td>\n",
              "      <td>15.6</td>\n",
              "      <td>1920 x 1080</td>\n",
              "      <td>6</td>\n",
              "      <td>12</td>\n",
              "      <td>66</td>\n",
              "      <td>56150</td>\n",
              "    </tr>\n",
              "    <tr>\n",
              "      <th>2</th>\n",
              "      <td>Lenovo V15 82KBA03HIH Laptop</td>\n",
              "      <td>Lenovo</td>\n",
              "      <td>11th Gen Core i3</td>\n",
              "      <td>8</td>\n",
              "      <td>256</td>\n",
              "      <td>1000</td>\n",
              "      <td>Windows</td>\n",
              "      <td>Intel Integrated UHD</td>\n",
              "      <td>15.6</td>\n",
              "      <td>1920 x 1080</td>\n",
              "      <td>2</td>\n",
              "      <td>4</td>\n",
              "      <td>66</td>\n",
              "      <td>35499</td>\n",
              "    </tr>\n",
              "    <tr>\n",
              "      <th>3</th>\n",
              "      <td>Asus Vivobook 16X 2022 M1603QA-MB502WS Laptop</td>\n",
              "      <td>Asus</td>\n",
              "      <td>Ryzen 5-5600H</td>\n",
              "      <td>8</td>\n",
              "      <td>512</td>\n",
              "      <td>0</td>\n",
              "      <td>Windows</td>\n",
              "      <td>AMD Radeon Vega 7</td>\n",
              "      <td>16.0</td>\n",
              "      <td>1200 x 1920</td>\n",
              "      <td>6</td>\n",
              "      <td>12</td>\n",
              "      <td>66</td>\n",
              "      <td>48990</td>\n",
              "    </tr>\n",
              "    <tr>\n",
              "      <th>4</th>\n",
              "      <td>HP 15s-fr4000TU Laptop</td>\n",
              "      <td>HP</td>\n",
              "      <td>11th Gen Core i5</td>\n",
              "      <td>8</td>\n",
              "      <td>512</td>\n",
              "      <td>0</td>\n",
              "      <td>Windows</td>\n",
              "      <td>Intel Integrated Iris Xe</td>\n",
              "      <td>15.6</td>\n",
              "      <td>1920 x 1080</td>\n",
              "      <td>4</td>\n",
              "      <td>8</td>\n",
              "      <td>63</td>\n",
              "      <td>52990</td>\n",
              "    </tr>\n",
              "  </tbody>\n",
              "</table>\n",
              "</div>\n",
              "      <button class=\"colab-df-convert\" onclick=\"convertToInteractive('df-8275ff02-9363-46f0-8c2a-fe96858862a8')\"\n",
              "              title=\"Convert this dataframe to an interactive table.\"\n",
              "              style=\"display:none;\">\n",
              "        \n",
              "  <svg xmlns=\"http://www.w3.org/2000/svg\" height=\"24px\"viewBox=\"0 0 24 24\"\n",
              "       width=\"24px\">\n",
              "    <path d=\"M0 0h24v24H0V0z\" fill=\"none\"/>\n",
              "    <path d=\"M18.56 5.44l.94 2.06.94-2.06 2.06-.94-2.06-.94-.94-2.06-.94 2.06-2.06.94zm-11 1L8.5 8.5l.94-2.06 2.06-.94-2.06-.94L8.5 2.5l-.94 2.06-2.06.94zm10 10l.94 2.06.94-2.06 2.06-.94-2.06-.94-.94-2.06-.94 2.06-2.06.94z\"/><path d=\"M17.41 7.96l-1.37-1.37c-.4-.4-.92-.59-1.43-.59-.52 0-1.04.2-1.43.59L10.3 9.45l-7.72 7.72c-.78.78-.78 2.05 0 2.83L4 21.41c.39.39.9.59 1.41.59.51 0 1.02-.2 1.41-.59l7.78-7.78 2.81-2.81c.8-.78.8-2.07 0-2.86zM5.41 20L4 18.59l7.72-7.72 1.47 1.35L5.41 20z\"/>\n",
              "  </svg>\n",
              "      </button>\n",
              "      \n",
              "  <style>\n",
              "    .colab-df-container {\n",
              "      display:flex;\n",
              "      flex-wrap:wrap;\n",
              "      gap: 12px;\n",
              "    }\n",
              "\n",
              "    .colab-df-convert {\n",
              "      background-color: #E8F0FE;\n",
              "      border: none;\n",
              "      border-radius: 50%;\n",
              "      cursor: pointer;\n",
              "      display: none;\n",
              "      fill: #1967D2;\n",
              "      height: 32px;\n",
              "      padding: 0 0 0 0;\n",
              "      width: 32px;\n",
              "    }\n",
              "\n",
              "    .colab-df-convert:hover {\n",
              "      background-color: #E2EBFA;\n",
              "      box-shadow: 0px 1px 2px rgba(60, 64, 67, 0.3), 0px 1px 3px 1px rgba(60, 64, 67, 0.15);\n",
              "      fill: #174EA6;\n",
              "    }\n",
              "\n",
              "    [theme=dark] .colab-df-convert {\n",
              "      background-color: #3B4455;\n",
              "      fill: #D2E3FC;\n",
              "    }\n",
              "\n",
              "    [theme=dark] .colab-df-convert:hover {\n",
              "      background-color: #434B5C;\n",
              "      box-shadow: 0px 1px 3px 1px rgba(0, 0, 0, 0.15);\n",
              "      filter: drop-shadow(0px 1px 2px rgba(0, 0, 0, 0.3));\n",
              "      fill: #FFFFFF;\n",
              "    }\n",
              "  </style>\n",
              "\n",
              "      <script>\n",
              "        const buttonEl =\n",
              "          document.querySelector('#df-8275ff02-9363-46f0-8c2a-fe96858862a8 button.colab-df-convert');\n",
              "        buttonEl.style.display =\n",
              "          google.colab.kernel.accessAllowed ? 'block' : 'none';\n",
              "\n",
              "        async function convertToInteractive(key) {\n",
              "          const element = document.querySelector('#df-8275ff02-9363-46f0-8c2a-fe96858862a8');\n",
              "          const dataTable =\n",
              "            await google.colab.kernel.invokeFunction('convertToInteractive',\n",
              "                                                     [key], {});\n",
              "          if (!dataTable) return;\n",
              "\n",
              "          const docLinkHtml = 'Like what you see? Visit the ' +\n",
              "            '<a target=\"_blank\" href=https://colab.research.google.com/notebooks/data_table.ipynb>data table notebook</a>'\n",
              "            + ' to learn more about interactive tables.';\n",
              "          element.innerHTML = '';\n",
              "          dataTable['output_type'] = 'display_data';\n",
              "          await google.colab.output.renderOutput(dataTable, element);\n",
              "          const docLink = document.createElement('div');\n",
              "          docLink.innerHTML = docLinkHtml;\n",
              "          element.appendChild(docLink);\n",
              "        }\n",
              "      </script>\n",
              "    </div>\n",
              "  </div>\n",
              "  "
            ],
            "text/plain": [
              "                                      model_name   brand     processor_name  \\\n",
              "0            Lenovo V15 ITL G2 82KBA033IH Laptop  Lenovo   11th Gen Core i3   \n",
              "1          HP Pavilion 15-ec2004AX Gaming Laptop      HP  AMD Ryzen 5 5600H   \n",
              "2                   Lenovo V15 82KBA03HIH Laptop  Lenovo   11th Gen Core i3   \n",
              "3  Asus Vivobook 16X 2022 M1603QA-MB502WS Laptop    Asus      Ryzen 5-5600H   \n",
              "4                         HP 15s-fr4000TU Laptop      HP   11th Gen Core i5   \n",
              "\n",
              "   ram(GB)  ssd(GB)  Hard Disk(GB) Operating System  \\\n",
              "0        8      512              0          Windows   \n",
              "1        8      512              0          Windows   \n",
              "2        8      256           1000          Windows   \n",
              "3        8      512              0          Windows   \n",
              "4        8      512              0          Windows   \n",
              "\n",
              "                       graphics  screen_size(inches) resolution (pixels)  \\\n",
              "0          Intel Integrated UHD                 15.6         1920 x 1080   \n",
              "1  4 GB NVIDIA GeForce GTX 1650                 15.6         1920 x 1080   \n",
              "2          Intel Integrated UHD                 15.6         1920 x 1080   \n",
              "3             AMD Radeon Vega 7                 16.0         1200 x 1920   \n",
              "4      Intel Integrated Iris Xe                 15.6         1920 x 1080   \n",
              "\n",
              "   no_of_cores  no_of_threads  spec_score  price  \n",
              "0            2              4          62  33921  \n",
              "1            6             12          66  56150  \n",
              "2            2              4          66  35499  \n",
              "3            6             12          66  48990  \n",
              "4            4              8          63  52990  "
            ]
          },
          "execution_count": 304,
          "metadata": {},
          "output_type": "execute_result"
        }
      ],
      "source": [
        "final_df.head()"
      ]
    },
    {
      "cell_type": "code",
      "execution_count": null,
      "metadata": {
        "id": "myBoORlm8DI3"
      },
      "outputs": [],
      "source": [
        "final_df.to_csv(\"Final_df.csv\",index=False)"
      ]
    },
    {
      "cell_type": "code",
      "execution_count": null,
      "metadata": {
        "id": "jqn8WmxloBGP"
      },
      "outputs": [],
      "source": [
        "df = pd.read_csv('/content/laptop.csv')"
      ]
    },
    {
      "cell_type": "code",
      "execution_count": null,
      "metadata": {
        "colab": {
          "base_uri": "https://localhost:8080/"
        },
        "id": "F0n2b79focm1",
        "outputId": "dbfa2c80-39e8-4647-958b-0ce0c14c3582"
      },
      "outputs": [
        {
          "data": {
            "text/plain": [
              "(1018, 14)"
            ]
          },
          "execution_count": 5,
          "metadata": {},
          "output_type": "execute_result"
        }
      ],
      "source": [
        "df.shape"
      ]
    },
    {
      "cell_type": "code",
      "execution_count": null,
      "metadata": {
        "colab": {
          "base_uri": "https://localhost:8080/"
        },
        "id": "-Bu9JyxwoJVF",
        "outputId": "abff9a77-1cc0-445d-e96c-d60011353d78"
      },
      "outputs": [
        {
          "data": {
            "text/plain": [
              "model_name             924\n",
              "brand                   22\n",
              "processor_name         123\n",
              "ram(GB)                  6\n",
              "ssd(GB)                  7\n",
              "Hard Disk(GB)            5\n",
              "Operating System         5\n",
              "graphics               156\n",
              "screen_size(inches)     21\n",
              "resolution (pixels)     30\n",
              "no_of_cores              9\n",
              "no_of_threads            9\n",
              "spec_score              49\n",
              "price                  623\n",
              "dtype: int64"
            ]
          },
          "execution_count": 15,
          "metadata": {},
          "output_type": "execute_result"
        }
      ],
      "source": [
        "df.nunique()"
      ]
    },
    {
      "cell_type": "code",
      "execution_count": null,
      "metadata": {
        "id": "f_zhviOppx_Q"
      },
      "outputs": [],
      "source": [
        "df.drop_duplicates(inplace = True)"
      ]
    },
    {
      "cell_type": "code",
      "execution_count": null,
      "metadata": {
        "id": "SiQJnVA6qMfu"
      },
      "outputs": [],
      "source": [
        "df.to_csv(\"cleaned_laptop.csv\")"
      ]
    },
    {
      "cell_type": "code",
      "execution_count": null,
      "metadata": {
        "colab": {
          "base_uri": "https://localhost:8080/"
        },
        "id": "HNJr-xTpq3CM",
        "outputId": "d2f97aeb-7ced-41b3-9a8e-a49a96e090a0"
      },
      "outputs": [
        {
          "data": {
            "text/plain": [
              "Index(['model_name', 'brand', 'processor_name', 'ram(GB)', 'ssd(GB)',\n",
              "       'Hard Disk(GB)', 'Operating System', 'graphics', 'screen_size(inches)',\n",
              "       'resolution (pixels)', 'no_of_cores', 'no_of_threads', 'spec_score',\n",
              "       'price'],\n",
              "      dtype='object')"
            ]
          },
          "execution_count": 17,
          "metadata": {},
          "output_type": "execute_result"
        }
      ],
      "source": [
        "df.columns"
      ]
    },
    {
      "cell_type": "code",
      "execution_count": null,
      "metadata": {
        "colab": {
          "base_uri": "https://localhost:8080/"
        },
        "id": "DrRMVTMyrf37",
        "outputId": "853bcca1-8694-438e-9e77-b5ba82f76135"
      },
      "outputs": [
        {
          "data": {
            "text/plain": [
              "8     455\n",
              "16    452\n",
              "4      60\n",
              "32     44\n",
              "64      2\n",
              "12      1\n",
              "Name: ram(GB), dtype: int64"
            ]
          },
          "execution_count": 27,
          "metadata": {},
          "output_type": "execute_result"
        }
      ],
      "source": [
        "df['ram(GB)'].value_counts()"
      ]
    },
    {
      "cell_type": "code",
      "execution_count": null,
      "metadata": {
        "id": "uKBbt1bdrbAz"
      },
      "outputs": [],
      "source": []
    }
  ],
  "metadata": {
    "colab": {
      "provenance": []
    },
    "kernelspec": {
      "display_name": "Python 3",
      "name": "python3"
    },
    "language_info": {
      "name": "python"
    }
  },
  "nbformat": 4,
  "nbformat_minor": 0
}
