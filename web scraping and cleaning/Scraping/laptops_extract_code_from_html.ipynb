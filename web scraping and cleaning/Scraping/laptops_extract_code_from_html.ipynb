{
 "cells": [
  {
   "cell_type": "code",
   "execution_count": 1,
   "id": "0d57c961",
   "metadata": {},
   "outputs": [],
   "source": [
    "with open('laptop.html', 'r', encoding='utf-8') as f:\n",
    "    html = f.read()"
   ]
  },
  {
   "cell_type": "code",
   "execution_count": 3,
   "id": "7e0c8eb3",
   "metadata": {},
   "outputs": [],
   "source": [
    "from bs4 import BeautifulSoup\n",
    "import numpy as np\n",
    "import pandas as pd"
   ]
  },
  {
   "cell_type": "code",
   "execution_count": 4,
   "id": "b4c42144",
   "metadata": {},
   "outputs": [],
   "source": [
    "soup = BeautifulSoup(html, 'lxml')"
   ]
  },
  {
   "cell_type": "code",
   "execution_count": 5,
   "id": "15ba7ec7",
   "metadata": {},
   "outputs": [],
   "source": [
    "containers = soup.find_all('div', {'class': 'sm-product has-tag has-features has-actions'})"
   ]
  },
  {
   "cell_type": "code",
   "execution_count": 6,
   "id": "a91242b2",
   "metadata": {},
   "outputs": [
    {
     "name": "stdout",
     "output_type": "stream",
     "text": [
      "1020\n"
     ]
    }
   ],
   "source": [
    "print(len(containers))"
   ]
  },
  {
   "cell_type": "code",
   "execution_count": 7,
   "id": "40302051",
   "metadata": {},
   "outputs": [],
   "source": [
    "element = containers[601]"
   ]
  },
  {
   "cell_type": "code",
   "execution_count": 8,
   "id": "1c3bc277",
   "metadata": {},
   "outputs": [],
   "source": [
    "x = element.find('ul', {'class':'sm-feat specs'}).find_all('li')"
   ]
  },
  {
   "cell_type": "code",
   "execution_count": 9,
   "id": "8db4f2aa",
   "metadata": {},
   "outputs": [
    {
     "name": "stdout",
     "output_type": "stream",
     "text": [
      "[<li class=\"\">6th Gen AMD Ryzen 7  6800H</li>, <li class=\"\">Octa Core, 16 Threads</li>, <li class=\"\">16 GB DDR5 RAM</li>, <li class=\"\">1 TB SSD</li>, <li class=\"\">6 GB NVIDIA GeForce RTX 3060</li>, <li class=\"\">16 inches, 2560 x 1600 pixels</li>, <li class=\"\">Windows 11 OS</li>, <li class=\"\">1 Year Warranty</li>]\n"
     ]
    }
   ],
   "source": [
    "print(x)"
   ]
  },
  {
   "cell_type": "code",
   "execution_count": 10,
   "id": "c9c083bd",
   "metadata": {},
   "outputs": [],
   "source": [
    "names = []\n",
    "prices = []\n",
    "spec_score = []\n",
    "processor = []\n",
    "core_threads = []\n",
    "ram = []\n",
    "ssd = []\n",
    "graphics = []\n",
    "display = []\n",
    "os = []\n",
    "extra_info = []\n",
    "for i in soup.find_all('div', {'class':'sm-product has-tag has-features has-actions'}):\n",
    "    try: \n",
    "        names.append(i.find('h2').text)\n",
    "    except:\n",
    "        names.append(np.nan)\n",
    "    try:\n",
    "        prices.append(i.find('span', {'class':'price'}).text)\n",
    "    except:\n",
    "        prices.append(np.nan)\n",
    "    try:\n",
    "        spec_score.append(i.find('div', {'class':'score rank-3-bg'}).find('b').text)\n",
    "    except:\n",
    "        try:\n",
    "            spec_score.append(i.find('div', {'class':'score rank-2-bg'}).find('b').text)\n",
    "        except:\n",
    "            try:\n",
    "                spec_score.append(i.find('div', {'class': 'score rank-1-bg'}).find('b').text)\n",
    "            except:\n",
    "                spec_score.append(np.nan)\n",
    "    try:\n",
    "        x = i.find('ul',{'class':'sm-feat specs'}).find_all('li')\n",
    "    except:\n",
    "        x = np.nan\n",
    "    try:\n",
    "        processor.append(x[0].text)\n",
    "    except:\n",
    "        processor.append(np.nan)\n",
    "    try:\n",
    "        core_threads.append(x[1].text)\n",
    "    except:\n",
    "        core_threads.append(np.nan)\n",
    "    try:\n",
    "        ram.append(x[2].text)\n",
    "    except:\n",
    "        ram.append(np.nan)\n",
    "    try:\n",
    "        ssd.append(x[3].text)\n",
    "    except:\n",
    "        ssd.append(np.nan)\n",
    "    try:\n",
    "        graphics.append(x[4].text)\n",
    "    except:\n",
    "        graphics.append(np.nan)\n",
    "    try: \n",
    "        display.append(x[5].text)\n",
    "    except:\n",
    "        display.append(np.nan)\n",
    "    try:\n",
    "        os.append(x[6].text)\n",
    "    except:\n",
    "        os.append(np.nan)\n",
    "    try:\n",
    "        extra_info.append(x[7].text)\n",
    "    except:\n",
    "        extra_info.append(np.nan)\n",
    "        \n",
    "            "
   ]
  },
  {
   "cell_type": "code",
   "execution_count": 11,
   "id": "267a7653",
   "metadata": {},
   "outputs": [
    {
     "name": "stdout",
     "output_type": "stream",
     "text": [
      "1020\n"
     ]
    }
   ],
   "source": [
    "print(len(processor))"
   ]
  },
  {
   "cell_type": "code",
   "execution_count": 12,
   "id": "3fa9a268",
   "metadata": {},
   "outputs": [],
   "source": [
    "df = pd.DataFrame({\n",
    "    'model':names,\n",
    "    'price':prices,\n",
    "    'spec_score':spec_score,\n",
    "    'processor':processor,\n",
    "    'core_threads':core_threads,\n",
    "    'ram':ram,\n",
    "    'ssd':ssd,\n",
    "    'graphics':graphics,\n",
    "    'display':display,\n",
    "    'os':os,\n",
    "    'extra_info':extra_info\n",
    "})"
   ]
  },
  {
   "cell_type": "code",
   "execution_count": 13,
   "id": "6d1d6a86",
   "metadata": {},
   "outputs": [],
   "source": [
    "df.to_csv('laptops.csv', encoding=\"utf-8\")"
   ]
  },
  {
   "cell_type": "code",
   "execution_count": 14,
   "id": "f3a74906",
   "metadata": {},
   "outputs": [
    {
     "data": {
      "text/plain": [
       "model            0\n",
       "price            0\n",
       "spec_score      16\n",
       "processor        2\n",
       "core_threads     2\n",
       "ram              2\n",
       "ssd              2\n",
       "graphics         2\n",
       "display          2\n",
       "os               3\n",
       "extra_info       5\n",
       "dtype: int64"
      ]
     },
     "execution_count": 14,
     "metadata": {},
     "output_type": "execute_result"
    }
   ],
   "source": [
    "df.isnull().sum()"
   ]
  },
  {
   "cell_type": "code",
   "execution_count": 15,
   "id": "e4ae8488",
   "metadata": {},
   "outputs": [
    {
     "data": {
      "text/html": [
       "<div>\n",
       "<style scoped>\n",
       "    .dataframe tbody tr th:only-of-type {\n",
       "        vertical-align: middle;\n",
       "    }\n",
       "\n",
       "    .dataframe tbody tr th {\n",
       "        vertical-align: top;\n",
       "    }\n",
       "\n",
       "    .dataframe thead th {\n",
       "        text-align: right;\n",
       "    }\n",
       "</style>\n",
       "<table border=\"1\" class=\"dataframe\">\n",
       "  <thead>\n",
       "    <tr style=\"text-align: right;\">\n",
       "      <th></th>\n",
       "      <th>model</th>\n",
       "      <th>price</th>\n",
       "      <th>spec_score</th>\n",
       "      <th>processor</th>\n",
       "      <th>core_threads</th>\n",
       "      <th>ram</th>\n",
       "      <th>ssd</th>\n",
       "      <th>graphics</th>\n",
       "      <th>display</th>\n",
       "      <th>os</th>\n",
       "      <th>extra_info</th>\n",
       "    </tr>\n",
       "  </thead>\n",
       "  <tbody>\n",
       "    <tr>\n",
       "      <th>0</th>\n",
       "      <td>Lenovo V15 ITL G2 82KBA033IH Laptop (11th Gen ...</td>\n",
       "      <td>₹33,921</td>\n",
       "      <td>62</td>\n",
       "      <td>11th Gen Intel Core i3 1115G4</td>\n",
       "      <td>Dual Core, 4 Threads</td>\n",
       "      <td>8 GB DDR4 RAM</td>\n",
       "      <td>512 GB SSD</td>\n",
       "      <td>Intel Integrated UHD</td>\n",
       "      <td>15.6 inches, 1920 x 1080 pixels</td>\n",
       "      <td>Windows 11 OS</td>\n",
       "      <td>1 Year Warranty</td>\n",
       "    </tr>\n",
       "    <tr>\n",
       "      <th>1</th>\n",
       "      <td>HP Pavilion 15-ec2004AX Gaming Laptop (AMD Ryz...</td>\n",
       "      <td>₹56,150</td>\n",
       "      <td>66</td>\n",
       "      <td>5th Gen AMD Ryzen 5  5600H</td>\n",
       "      <td>Hexa Core, 12 Threads</td>\n",
       "      <td>8 GB DDR4 RAM</td>\n",
       "      <td>512 GB SSD</td>\n",
       "      <td>4 GB NVIDIA GeForce GTX 1650</td>\n",
       "      <td>15.6 inches, 1920 x 1080 pixels</td>\n",
       "      <td>Windows 10 OS</td>\n",
       "      <td>1 Year Warranty</td>\n",
       "    </tr>\n",
       "    <tr>\n",
       "      <th>2</th>\n",
       "      <td>Lenovo V15 82KBA03HIH Laptop (11th Gen Core i3...</td>\n",
       "      <td>₹35,499</td>\n",
       "      <td>66</td>\n",
       "      <td>11th Gen Intel Core i3 1115G4</td>\n",
       "      <td>Dual Core, 4 Threads</td>\n",
       "      <td>8 GB DDR4 RAM</td>\n",
       "      <td>1 TB Hard Disk</td>\n",
       "      <td>256 GB SSD</td>\n",
       "      <td>Intel Integrated UHD</td>\n",
       "      <td>15.6 inches, 1920 x 1080 pixels</td>\n",
       "      <td>Windows 11 OS</td>\n",
       "    </tr>\n",
       "    <tr>\n",
       "      <th>3</th>\n",
       "      <td>Asus Vivobook 16X 2022 M1603QA-MB502WS Laptop ...</td>\n",
       "      <td>₹48,990</td>\n",
       "      <td>66</td>\n",
       "      <td>5th Gen AMD Ryzen 5 5600H</td>\n",
       "      <td>Hexa Core, 12 Threads</td>\n",
       "      <td>8 GB DDR4 RAM</td>\n",
       "      <td>512 GB SSD</td>\n",
       "      <td>AMD Radeon Vega 7</td>\n",
       "      <td>16 inches, 1200 x 1920 pixels</td>\n",
       "      <td>Windows 11 OS</td>\n",
       "      <td>1 Year Warranty</td>\n",
       "    </tr>\n",
       "    <tr>\n",
       "      <th>4</th>\n",
       "      <td>HP 15s-fr4000TU Laptop (11th Gen Core i5/ 8GB/...</td>\n",
       "      <td>₹52,990</td>\n",
       "      <td>63</td>\n",
       "      <td>11th Gen Intel Core i5 1155G7</td>\n",
       "      <td>Quad Core, 8 Threads</td>\n",
       "      <td>8 GB DDR4 RAM</td>\n",
       "      <td>512 GB SSD</td>\n",
       "      <td>Intel Integrated Iris Xe</td>\n",
       "      <td>15.6 inches, 1920 x 1080 pixels</td>\n",
       "      <td>Windows 11 OS</td>\n",
       "      <td>1 Year Warranty</td>\n",
       "    </tr>\n",
       "  </tbody>\n",
       "</table>\n",
       "</div>"
      ],
      "text/plain": [
       "                                               model    price spec_score  \\\n",
       "0  Lenovo V15 ITL G2 82KBA033IH Laptop (11th Gen ...  ₹33,921         62   \n",
       "1  HP Pavilion 15-ec2004AX Gaming Laptop (AMD Ryz...  ₹56,150         66   \n",
       "2  Lenovo V15 82KBA03HIH Laptop (11th Gen Core i3...  ₹35,499         66   \n",
       "3  Asus Vivobook 16X 2022 M1603QA-MB502WS Laptop ...  ₹48,990         66   \n",
       "4  HP 15s-fr4000TU Laptop (11th Gen Core i5/ 8GB/...  ₹52,990         63   \n",
       "\n",
       "                       processor           core_threads            ram  \\\n",
       "0  11th Gen Intel Core i3 1115G4   Dual Core, 4 Threads  8 GB DDR4 RAM   \n",
       "1     5th Gen AMD Ryzen 5  5600H  Hexa Core, 12 Threads  8 GB DDR4 RAM   \n",
       "2  11th Gen Intel Core i3 1115G4   Dual Core, 4 Threads  8 GB DDR4 RAM   \n",
       "3      5th Gen AMD Ryzen 5 5600H  Hexa Core, 12 Threads  8 GB DDR4 RAM   \n",
       "4  11th Gen Intel Core i5 1155G7   Quad Core, 8 Threads  8 GB DDR4 RAM   \n",
       "\n",
       "              ssd                      graphics  \\\n",
       "0      512 GB SSD          Intel Integrated UHD   \n",
       "1      512 GB SSD  4 GB NVIDIA GeForce GTX 1650   \n",
       "2  1 TB Hard Disk                    256 GB SSD   \n",
       "3      512 GB SSD             AMD Radeon Vega 7   \n",
       "4      512 GB SSD      Intel Integrated Iris Xe   \n",
       "\n",
       "                           display                               os  \\\n",
       "0  15.6 inches, 1920 x 1080 pixels                    Windows 11 OS   \n",
       "1  15.6 inches, 1920 x 1080 pixels                    Windows 10 OS   \n",
       "2             Intel Integrated UHD  15.6 inches, 1920 x 1080 pixels   \n",
       "3    16 inches, 1200 x 1920 pixels                    Windows 11 OS   \n",
       "4  15.6 inches, 1920 x 1080 pixels                    Windows 11 OS   \n",
       "\n",
       "        extra_info  \n",
       "0  1 Year Warranty  \n",
       "1  1 Year Warranty  \n",
       "2    Windows 11 OS  \n",
       "3  1 Year Warranty  \n",
       "4  1 Year Warranty  "
      ]
     },
     "execution_count": 15,
     "metadata": {},
     "output_type": "execute_result"
    }
   ],
   "source": [
    "df.head()"
   ]
  }
 ],
 "metadata": {
  "kernelspec": {
   "display_name": "Python 3 (ipykernel)",
   "language": "python",
   "name": "python3"
  },
  "language_info": {
   "codemirror_mode": {
    "name": "ipython",
    "version": 3
   },
   "file_extension": ".py",
   "mimetype": "text/x-python",
   "name": "python",
   "nbconvert_exporter": "python",
   "pygments_lexer": "ipython3",
   "version": "3.9.13"
  }
 },
 "nbformat": 4,
 "nbformat_minor": 5
}
